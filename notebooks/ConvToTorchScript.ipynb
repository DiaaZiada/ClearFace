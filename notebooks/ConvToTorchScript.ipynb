{
 "cells": [
  {
   "cell_type": "markdown",
   "metadata": {},
   "source": [
    "# Convet to TorchScript"
   ]
  },
  {
   "cell_type": "code",
   "execution_count": 1,
   "metadata": {},
   "outputs": [],
   "source": [
    "import torch\n",
    "from models import *"
   ]
  },
  {
   "cell_type": "markdown",
   "metadata": {},
   "source": [
    "## Gender model"
   ]
  },
  {
   "cell_type": "code",
   "execution_count": 2,
   "metadata": {},
   "outputs": [],
   "source": [
    "inp = torch.rand(1, 3, 64, 64)"
   ]
  },
  {
   "cell_type": "code",
   "execution_count": 3,
   "metadata": {},
   "outputs": [
    {
     "data": {
      "text/plain": [
       "<All keys matched successfully>"
      ]
     },
     "execution_count": 3,
     "metadata": {},
     "output_type": "execute_result"
    }
   ],
   "source": [
    "model = SingleModel(2)\n",
    "model.load_state_dict(torch.load(\"./models/gender.pth\", map_location=\"cpu\"))"
   ]
  },
  {
   "cell_type": "code",
   "execution_count": 4,
   "metadata": {},
   "outputs": [],
   "source": [
    "# Covert to TorchScript\n",
    "traced = torch.jit.trace(model, inp)"
   ]
  },
  {
   "cell_type": "code",
   "execution_count": 5,
   "metadata": {},
   "outputs": [
    {
     "name": "stdout",
     "output_type": "stream",
     "text": [
      "Model\n",
      "SingleModel(\n",
      "  original_name=SingleModel\n",
      "  (feature_extractor): Feature_Extractor(\n",
      "    original_name=Feature_Extractor\n",
      "    (con2d_1): Conv2d(original_name=Conv2d)\n",
      "    (bn_1): BatchNorm2d(original_name=BatchNorm2d)\n",
      "    (con2d_2): Conv2d(original_name=Conv2d)\n",
      "    (bn_2): BatchNorm2d(original_name=BatchNorm2d)\n",
      "    (block_1): Block(\n",
      "      original_name=Block\n",
      "      (skip): Conv2d(original_name=Conv2d)\n",
      "      (skipbn): BatchNorm2d(original_name=BatchNorm2d)\n",
      "      (relu): ReLU(original_name=ReLU)\n",
      "      (rep): Sequential(\n",
      "        original_name=Sequential\n",
      "        (0): ReLU(original_name=ReLU)\n",
      "        (1): SeparableConv2d(\n",
      "          original_name=SeparableConv2d\n",
      "          (conv1): Conv2d(original_name=Conv2d)\n",
      "          (pointwise): Conv2d(original_name=Conv2d)\n",
      "        )\n",
      "        (2): BatchNorm2d(original_name=BatchNorm2d)\n",
      "        (3): ReLU(original_name=ReLU)\n",
      "        (4): SeparableConv2d(\n",
      "          original_name=SeparableConv2d\n",
      "          (conv1): Conv2d(original_name=Conv2d)\n",
      "          (pointwise): Conv2d(original_name=Conv2d)\n",
      "        )\n",
      "        (5): BatchNorm2d(original_name=BatchNorm2d)\n",
      "        (6): MaxPool2d(original_name=MaxPool2d)\n",
      "      )\n",
      "    )\n",
      "    (block_2): Block(\n",
      "      original_name=Block\n",
      "      (skip): Conv2d(original_name=Conv2d)\n",
      "      (skipbn): BatchNorm2d(original_name=BatchNorm2d)\n",
      "      (relu): ReLU(original_name=ReLU)\n",
      "      (rep): Sequential(\n",
      "        original_name=Sequential\n",
      "        (0): ReLU(original_name=ReLU)\n",
      "        (1): SeparableConv2d(\n",
      "          original_name=SeparableConv2d\n",
      "          (conv1): Conv2d(original_name=Conv2d)\n",
      "          (pointwise): Conv2d(original_name=Conv2d)\n",
      "        )\n",
      "        (2): BatchNorm2d(original_name=BatchNorm2d)\n",
      "        (3): ReLU(original_name=ReLU)\n",
      "        (4): SeparableConv2d(\n",
      "          original_name=SeparableConv2d\n",
      "          (conv1): Conv2d(original_name=Conv2d)\n",
      "          (pointwise): Conv2d(original_name=Conv2d)\n",
      "        )\n",
      "        (5): BatchNorm2d(original_name=BatchNorm2d)\n",
      "        (6): MaxPool2d(original_name=MaxPool2d)\n",
      "      )\n",
      "    )\n",
      "    (block_3): Block(\n",
      "      original_name=Block\n",
      "      (skip): Conv2d(original_name=Conv2d)\n",
      "      (skipbn): BatchNorm2d(original_name=BatchNorm2d)\n",
      "      (relu): ReLU(original_name=ReLU)\n",
      "      (rep): Sequential(\n",
      "        original_name=Sequential\n",
      "        (0): ReLU(original_name=ReLU)\n",
      "        (1): SeparableConv2d(\n",
      "          original_name=SeparableConv2d\n",
      "          (conv1): Conv2d(original_name=Conv2d)\n",
      "          (pointwise): Conv2d(original_name=Conv2d)\n",
      "        )\n",
      "        (2): BatchNorm2d(original_name=BatchNorm2d)\n",
      "        (3): ReLU(original_name=ReLU)\n",
      "        (4): SeparableConv2d(\n",
      "          original_name=SeparableConv2d\n",
      "          (conv1): Conv2d(original_name=Conv2d)\n",
      "          (pointwise): Conv2d(original_name=Conv2d)\n",
      "        )\n",
      "        (5): BatchNorm2d(original_name=BatchNorm2d)\n",
      "        (6): MaxPool2d(original_name=MaxPool2d)\n",
      "      )\n",
      "    )\n",
      "    (block_4): Block(\n",
      "      original_name=Block\n",
      "      (skip): Conv2d(original_name=Conv2d)\n",
      "      (skipbn): BatchNorm2d(original_name=BatchNorm2d)\n",
      "      (relu): ReLU(original_name=ReLU)\n",
      "      (rep): Sequential(\n",
      "        original_name=Sequential\n",
      "        (0): ReLU(original_name=ReLU)\n",
      "        (1): SeparableConv2d(\n",
      "          original_name=SeparableConv2d\n",
      "          (conv1): Conv2d(original_name=Conv2d)\n",
      "          (pointwise): Conv2d(original_name=Conv2d)\n",
      "        )\n",
      "        (2): BatchNorm2d(original_name=BatchNorm2d)\n",
      "        (3): ReLU(original_name=ReLU)\n",
      "        (4): SeparableConv2d(\n",
      "          original_name=SeparableConv2d\n",
      "          (conv1): Conv2d(original_name=Conv2d)\n",
      "          (pointwise): Conv2d(original_name=Conv2d)\n",
      "        )\n",
      "        (5): BatchNorm2d(original_name=BatchNorm2d)\n",
      "        (6): MaxPool2d(original_name=MaxPool2d)\n",
      "      )\n",
      "    )\n",
      "    (relu): ReLU(original_name=ReLU)\n",
      "  )\n",
      "  (classifier): Classifier(\n",
      "    original_name=Classifier\n",
      "    (conv2d_f): Conv2d(original_name=Conv2d)\n",
      "    (glob_avg_bool): AvgPool2d(original_name=AvgPool2d)\n",
      "  )\n",
      ")\n",
      "graph\n",
      "graph(%self.1 : __torch__.torch.nn.modules.module.___torch_mangle_72.Module,\n",
      "      %input.1 : Float(1, 3, 64, 64)):\n",
      "  %1334 : __torch__.torch.nn.modules.module.___torch_mangle_71.Module = prim::GetAttr[name=\"classifier\"](%self.1)\n",
      "  %1329 : __torch__.torch.nn.modules.module.___torch_mangle_68.Module = prim::GetAttr[name=\"feature_extractor\"](%self.1)\n",
      "  %1405 : Tensor = prim::CallMethod[name=\"forward\"](%1329, %input.1)\n",
      "  %1406 : Tensor = prim::CallMethod[name=\"forward\"](%1334, %1405)\n",
      "  return (%1406)\n",
      "\n",
      "code\n",
      "def forward(self,\n",
      "    input: Tensor) -> Tensor:\n",
      "  _0 = self.classifier\n",
      "  _1 = (self.feature_extractor).forward(input, )\n",
      "  return (_0).forward(_1, )\n",
      "\n"
     ]
    }
   ],
   "source": [
    "# Displaying\n",
    "print(\"Model\")\n",
    "print(traced)\n",
    "print(\"graph\")\n",
    "print(traced.graph)\n",
    "print(\"code\")\n",
    "print(traced.code)"
   ]
  },
  {
   "cell_type": "code",
   "execution_count": 6,
   "metadata": {},
   "outputs": [
    {
     "name": "stdout",
     "output_type": "stream",
     "text": [
      "RecursiveScriptModule(\n",
      "  original_name=Module\n",
      "  (feature_extractor): RecursiveScriptModule(\n",
      "    original_name=Module\n",
      "    (con2d_1): RecursiveScriptModule(original_name=Module)\n",
      "    (bn_1): RecursiveScriptModule(original_name=Module)\n",
      "    (con2d_2): RecursiveScriptModule(original_name=Module)\n",
      "    (bn_2): RecursiveScriptModule(original_name=Module)\n",
      "    (block_1): RecursiveScriptModule(\n",
      "      original_name=Module\n",
      "      (skip): RecursiveScriptModule(original_name=Module)\n",
      "      (skipbn): RecursiveScriptModule(original_name=Module)\n",
      "      (relu): RecursiveScriptModule(original_name=Module)\n",
      "      (rep): RecursiveScriptModule(\n",
      "        original_name=Module\n",
      "        (0): RecursiveScriptModule(original_name=Module)\n",
      "        (1): RecursiveScriptModule(\n",
      "          original_name=Module\n",
      "          (conv1): RecursiveScriptModule(original_name=Module)\n",
      "          (pointwise): RecursiveScriptModule(original_name=Module)\n",
      "        )\n",
      "        (2): RecursiveScriptModule(original_name=Module)\n",
      "        (3): RecursiveScriptModule(original_name=Module)\n",
      "        (4): RecursiveScriptModule(\n",
      "          original_name=Module\n",
      "          (conv1): RecursiveScriptModule(original_name=Module)\n",
      "          (pointwise): RecursiveScriptModule(original_name=Module)\n",
      "        )\n",
      "        (5): RecursiveScriptModule(original_name=Module)\n",
      "        (6): RecursiveScriptModule(original_name=Module)\n",
      "      )\n",
      "    )\n",
      "    (block_2): RecursiveScriptModule(\n",
      "      original_name=Module\n",
      "      (skip): RecursiveScriptModule(original_name=Module)\n",
      "      (skipbn): RecursiveScriptModule(original_name=Module)\n",
      "      (relu): RecursiveScriptModule(original_name=Module)\n",
      "      (rep): RecursiveScriptModule(\n",
      "        original_name=Module\n",
      "        (0): RecursiveScriptModule(original_name=Module)\n",
      "        (1): RecursiveScriptModule(\n",
      "          original_name=Module\n",
      "          (conv1): RecursiveScriptModule(original_name=Module)\n",
      "          (pointwise): RecursiveScriptModule(original_name=Module)\n",
      "        )\n",
      "        (2): RecursiveScriptModule(original_name=Module)\n",
      "        (3): RecursiveScriptModule(original_name=Module)\n",
      "        (4): RecursiveScriptModule(\n",
      "          original_name=Module\n",
      "          (conv1): RecursiveScriptModule(original_name=Module)\n",
      "          (pointwise): RecursiveScriptModule(original_name=Module)\n",
      "        )\n",
      "        (5): RecursiveScriptModule(original_name=Module)\n",
      "        (6): RecursiveScriptModule(original_name=Module)\n",
      "      )\n",
      "    )\n",
      "    (block_3): RecursiveScriptModule(\n",
      "      original_name=Module\n",
      "      (skip): RecursiveScriptModule(original_name=Module)\n",
      "      (skipbn): RecursiveScriptModule(original_name=Module)\n",
      "      (relu): RecursiveScriptModule(original_name=Module)\n",
      "      (rep): RecursiveScriptModule(\n",
      "        original_name=Module\n",
      "        (0): RecursiveScriptModule(original_name=Module)\n",
      "        (1): RecursiveScriptModule(\n",
      "          original_name=Module\n",
      "          (conv1): RecursiveScriptModule(original_name=Module)\n",
      "          (pointwise): RecursiveScriptModule(original_name=Module)\n",
      "        )\n",
      "        (2): RecursiveScriptModule(original_name=Module)\n",
      "        (3): RecursiveScriptModule(original_name=Module)\n",
      "        (4): RecursiveScriptModule(\n",
      "          original_name=Module\n",
      "          (conv1): RecursiveScriptModule(original_name=Module)\n",
      "          (pointwise): RecursiveScriptModule(original_name=Module)\n",
      "        )\n",
      "        (5): RecursiveScriptModule(original_name=Module)\n",
      "        (6): RecursiveScriptModule(original_name=Module)\n",
      "      )\n",
      "    )\n",
      "    (block_4): RecursiveScriptModule(\n",
      "      original_name=Module\n",
      "      (skip): RecursiveScriptModule(original_name=Module)\n",
      "      (skipbn): RecursiveScriptModule(original_name=Module)\n",
      "      (relu): RecursiveScriptModule(original_name=Module)\n",
      "      (rep): RecursiveScriptModule(\n",
      "        original_name=Module\n",
      "        (0): RecursiveScriptModule(original_name=Module)\n",
      "        (1): RecursiveScriptModule(\n",
      "          original_name=Module\n",
      "          (conv1): RecursiveScriptModule(original_name=Module)\n",
      "          (pointwise): RecursiveScriptModule(original_name=Module)\n",
      "        )\n",
      "        (2): RecursiveScriptModule(original_name=Module)\n",
      "        (3): RecursiveScriptModule(original_name=Module)\n",
      "        (4): RecursiveScriptModule(\n",
      "          original_name=Module\n",
      "          (conv1): RecursiveScriptModule(original_name=Module)\n",
      "          (pointwise): RecursiveScriptModule(original_name=Module)\n",
      "        )\n",
      "        (5): RecursiveScriptModule(original_name=Module)\n",
      "        (6): RecursiveScriptModule(original_name=Module)\n",
      "      )\n",
      "    )\n",
      "    (relu): RecursiveScriptModule(original_name=Module)\n",
      "  )\n",
      "  (classifier): RecursiveScriptModule(\n",
      "    original_name=Module\n",
      "    (conv2d_f): RecursiveScriptModule(original_name=Module)\n",
      "    (glob_avg_bool): RecursiveScriptModule(original_name=Module)\n",
      "  )\n",
      ")\n",
      "def forward(self,\n",
      "    input: Tensor) -> Tensor:\n",
      "  _0 = self.classifier\n",
      "  _1 = (self.feature_extractor).forward(input, )\n",
      "  return (_0).forward(_1, )\n",
      "\n"
     ]
    }
   ],
   "source": [
    "traced.save('./models/gender.zip')\n",
    "\n",
    "loaded = torch.jit.load('./models/gender.zip')\n",
    "print(loaded)\n",
    "print(loaded.code)"
   ]
  },
  {
   "cell_type": "markdown",
   "metadata": {},
   "source": [
    "## Expressions"
   ]
  },
  {
   "cell_type": "code",
   "execution_count": 7,
   "metadata": {},
   "outputs": [
    {
     "data": {
      "text/plain": [
       "<All keys matched successfully>"
      ]
     },
     "execution_count": 7,
     "metadata": {},
     "output_type": "execute_result"
    }
   ],
   "source": [
    "model = SingleModel(7)\n",
    "model.load_state_dict(torch.load(\"./models/expression.pth\", map_location=\"cpu\"))"
   ]
  },
  {
   "cell_type": "code",
   "execution_count": 8,
   "metadata": {},
   "outputs": [],
   "source": [
    "# Covert to TorchScript\n",
    "traced = torch.jit.trace(model, inp)"
   ]
  },
  {
   "cell_type": "code",
   "execution_count": 9,
   "metadata": {},
   "outputs": [
    {
     "name": "stdout",
     "output_type": "stream",
     "text": [
      "Model\n",
      "SingleModel(\n",
      "  original_name=SingleModel\n",
      "  (feature_extractor): Feature_Extractor(\n",
      "    original_name=Feature_Extractor\n",
      "    (con2d_1): Conv2d(original_name=Conv2d)\n",
      "    (bn_1): BatchNorm2d(original_name=BatchNorm2d)\n",
      "    (con2d_2): Conv2d(original_name=Conv2d)\n",
      "    (bn_2): BatchNorm2d(original_name=BatchNorm2d)\n",
      "    (block_1): Block(\n",
      "      original_name=Block\n",
      "      (skip): Conv2d(original_name=Conv2d)\n",
      "      (skipbn): BatchNorm2d(original_name=BatchNorm2d)\n",
      "      (relu): ReLU(original_name=ReLU)\n",
      "      (rep): Sequential(\n",
      "        original_name=Sequential\n",
      "        (0): ReLU(original_name=ReLU)\n",
      "        (1): SeparableConv2d(\n",
      "          original_name=SeparableConv2d\n",
      "          (conv1): Conv2d(original_name=Conv2d)\n",
      "          (pointwise): Conv2d(original_name=Conv2d)\n",
      "        )\n",
      "        (2): BatchNorm2d(original_name=BatchNorm2d)\n",
      "        (3): ReLU(original_name=ReLU)\n",
      "        (4): SeparableConv2d(\n",
      "          original_name=SeparableConv2d\n",
      "          (conv1): Conv2d(original_name=Conv2d)\n",
      "          (pointwise): Conv2d(original_name=Conv2d)\n",
      "        )\n",
      "        (5): BatchNorm2d(original_name=BatchNorm2d)\n",
      "        (6): MaxPool2d(original_name=MaxPool2d)\n",
      "      )\n",
      "    )\n",
      "    (block_2): Block(\n",
      "      original_name=Block\n",
      "      (skip): Conv2d(original_name=Conv2d)\n",
      "      (skipbn): BatchNorm2d(original_name=BatchNorm2d)\n",
      "      (relu): ReLU(original_name=ReLU)\n",
      "      (rep): Sequential(\n",
      "        original_name=Sequential\n",
      "        (0): ReLU(original_name=ReLU)\n",
      "        (1): SeparableConv2d(\n",
      "          original_name=SeparableConv2d\n",
      "          (conv1): Conv2d(original_name=Conv2d)\n",
      "          (pointwise): Conv2d(original_name=Conv2d)\n",
      "        )\n",
      "        (2): BatchNorm2d(original_name=BatchNorm2d)\n",
      "        (3): ReLU(original_name=ReLU)\n",
      "        (4): SeparableConv2d(\n",
      "          original_name=SeparableConv2d\n",
      "          (conv1): Conv2d(original_name=Conv2d)\n",
      "          (pointwise): Conv2d(original_name=Conv2d)\n",
      "        )\n",
      "        (5): BatchNorm2d(original_name=BatchNorm2d)\n",
      "        (6): MaxPool2d(original_name=MaxPool2d)\n",
      "      )\n",
      "    )\n",
      "    (block_3): Block(\n",
      "      original_name=Block\n",
      "      (skip): Conv2d(original_name=Conv2d)\n",
      "      (skipbn): BatchNorm2d(original_name=BatchNorm2d)\n",
      "      (relu): ReLU(original_name=ReLU)\n",
      "      (rep): Sequential(\n",
      "        original_name=Sequential\n",
      "        (0): ReLU(original_name=ReLU)\n",
      "        (1): SeparableConv2d(\n",
      "          original_name=SeparableConv2d\n",
      "          (conv1): Conv2d(original_name=Conv2d)\n",
      "          (pointwise): Conv2d(original_name=Conv2d)\n",
      "        )\n",
      "        (2): BatchNorm2d(original_name=BatchNorm2d)\n",
      "        (3): ReLU(original_name=ReLU)\n",
      "        (4): SeparableConv2d(\n",
      "          original_name=SeparableConv2d\n",
      "          (conv1): Conv2d(original_name=Conv2d)\n",
      "          (pointwise): Conv2d(original_name=Conv2d)\n",
      "        )\n",
      "        (5): BatchNorm2d(original_name=BatchNorm2d)\n",
      "        (6): MaxPool2d(original_name=MaxPool2d)\n",
      "      )\n",
      "    )\n",
      "    (block_4): Block(\n",
      "      original_name=Block\n",
      "      (skip): Conv2d(original_name=Conv2d)\n",
      "      (skipbn): BatchNorm2d(original_name=BatchNorm2d)\n",
      "      (relu): ReLU(original_name=ReLU)\n",
      "      (rep): Sequential(\n",
      "        original_name=Sequential\n",
      "        (0): ReLU(original_name=ReLU)\n",
      "        (1): SeparableConv2d(\n",
      "          original_name=SeparableConv2d\n",
      "          (conv1): Conv2d(original_name=Conv2d)\n",
      "          (pointwise): Conv2d(original_name=Conv2d)\n",
      "        )\n",
      "        (2): BatchNorm2d(original_name=BatchNorm2d)\n",
      "        (3): ReLU(original_name=ReLU)\n",
      "        (4): SeparableConv2d(\n",
      "          original_name=SeparableConv2d\n",
      "          (conv1): Conv2d(original_name=Conv2d)\n",
      "          (pointwise): Conv2d(original_name=Conv2d)\n",
      "        )\n",
      "        (5): BatchNorm2d(original_name=BatchNorm2d)\n",
      "        (6): MaxPool2d(original_name=MaxPool2d)\n",
      "      )\n",
      "    )\n",
      "    (relu): ReLU(original_name=ReLU)\n",
      "  )\n",
      "  (classifier): Classifier(\n",
      "    original_name=Classifier\n",
      "    (conv2d_f): Conv2d(original_name=Conv2d)\n",
      "    (glob_avg_bool): AvgPool2d(original_name=AvgPool2d)\n",
      "  )\n",
      ")\n",
      "graph\n",
      "graph(%self.1 : __torch__.torch.nn.modules.module.___torch_mangle_220.Module,\n",
      "      %input.1 : Float(1, 3, 64, 64)):\n",
      "  %1334 : __torch__.torch.nn.modules.module.___torch_mangle_219.Module = prim::GetAttr[name=\"classifier\"](%self.1)\n",
      "  %1329 : __torch__.torch.nn.modules.module.___torch_mangle_216.Module = prim::GetAttr[name=\"feature_extractor\"](%self.1)\n",
      "  %1405 : Tensor = prim::CallMethod[name=\"forward\"](%1329, %input.1)\n",
      "  %1406 : Tensor = prim::CallMethod[name=\"forward\"](%1334, %1405)\n",
      "  return (%1406)\n",
      "\n",
      "code\n",
      "def forward(self,\n",
      "    input: Tensor) -> Tensor:\n",
      "  _0 = self.classifier\n",
      "  _1 = (self.feature_extractor).forward(input, )\n",
      "  return (_0).forward(_1, )\n",
      "\n"
     ]
    }
   ],
   "source": [
    "# Displaying\n",
    "print(\"Model\")\n",
    "print(traced)\n",
    "print(\"graph\")\n",
    "print(traced.graph)\n",
    "print(\"code\")\n",
    "print(traced.code)"
   ]
  },
  {
   "cell_type": "code",
   "execution_count": 10,
   "metadata": {},
   "outputs": [
    {
     "name": "stdout",
     "output_type": "stream",
     "text": [
      "RecursiveScriptModule(\n",
      "  original_name=Module\n",
      "  (feature_extractor): RecursiveScriptModule(\n",
      "    original_name=Module\n",
      "    (con2d_1): RecursiveScriptModule(original_name=Module)\n",
      "    (bn_1): RecursiveScriptModule(original_name=Module)\n",
      "    (con2d_2): RecursiveScriptModule(original_name=Module)\n",
      "    (bn_2): RecursiveScriptModule(original_name=Module)\n",
      "    (block_1): RecursiveScriptModule(\n",
      "      original_name=Module\n",
      "      (skip): RecursiveScriptModule(original_name=Module)\n",
      "      (skipbn): RecursiveScriptModule(original_name=Module)\n",
      "      (relu): RecursiveScriptModule(original_name=Module)\n",
      "      (rep): RecursiveScriptModule(\n",
      "        original_name=Module\n",
      "        (0): RecursiveScriptModule(original_name=Module)\n",
      "        (1): RecursiveScriptModule(\n",
      "          original_name=Module\n",
      "          (conv1): RecursiveScriptModule(original_name=Module)\n",
      "          (pointwise): RecursiveScriptModule(original_name=Module)\n",
      "        )\n",
      "        (2): RecursiveScriptModule(original_name=Module)\n",
      "        (3): RecursiveScriptModule(original_name=Module)\n",
      "        (4): RecursiveScriptModule(\n",
      "          original_name=Module\n",
      "          (conv1): RecursiveScriptModule(original_name=Module)\n",
      "          (pointwise): RecursiveScriptModule(original_name=Module)\n",
      "        )\n",
      "        (5): RecursiveScriptModule(original_name=Module)\n",
      "        (6): RecursiveScriptModule(original_name=Module)\n",
      "      )\n",
      "    )\n",
      "    (block_2): RecursiveScriptModule(\n",
      "      original_name=Module\n",
      "      (skip): RecursiveScriptModule(original_name=Module)\n",
      "      (skipbn): RecursiveScriptModule(original_name=Module)\n",
      "      (relu): RecursiveScriptModule(original_name=Module)\n",
      "      (rep): RecursiveScriptModule(\n",
      "        original_name=Module\n",
      "        (0): RecursiveScriptModule(original_name=Module)\n",
      "        (1): RecursiveScriptModule(\n",
      "          original_name=Module\n",
      "          (conv1): RecursiveScriptModule(original_name=Module)\n",
      "          (pointwise): RecursiveScriptModule(original_name=Module)\n",
      "        )\n",
      "        (2): RecursiveScriptModule(original_name=Module)\n",
      "        (3): RecursiveScriptModule(original_name=Module)\n",
      "        (4): RecursiveScriptModule(\n",
      "          original_name=Module\n",
      "          (conv1): RecursiveScriptModule(original_name=Module)\n",
      "          (pointwise): RecursiveScriptModule(original_name=Module)\n",
      "        )\n",
      "        (5): RecursiveScriptModule(original_name=Module)\n",
      "        (6): RecursiveScriptModule(original_name=Module)\n",
      "      )\n",
      "    )\n",
      "    (block_3): RecursiveScriptModule(\n",
      "      original_name=Module\n",
      "      (skip): RecursiveScriptModule(original_name=Module)\n",
      "      (skipbn): RecursiveScriptModule(original_name=Module)\n",
      "      (relu): RecursiveScriptModule(original_name=Module)\n",
      "      (rep): RecursiveScriptModule(\n",
      "        original_name=Module\n",
      "        (0): RecursiveScriptModule(original_name=Module)\n",
      "        (1): RecursiveScriptModule(\n",
      "          original_name=Module\n",
      "          (conv1): RecursiveScriptModule(original_name=Module)\n",
      "          (pointwise): RecursiveScriptModule(original_name=Module)\n",
      "        )\n",
      "        (2): RecursiveScriptModule(original_name=Module)\n",
      "        (3): RecursiveScriptModule(original_name=Module)\n",
      "        (4): RecursiveScriptModule(\n",
      "          original_name=Module\n",
      "          (conv1): RecursiveScriptModule(original_name=Module)\n",
      "          (pointwise): RecursiveScriptModule(original_name=Module)\n",
      "        )\n",
      "        (5): RecursiveScriptModule(original_name=Module)\n",
      "        (6): RecursiveScriptModule(original_name=Module)\n",
      "      )\n",
      "    )\n",
      "    (block_4): RecursiveScriptModule(\n",
      "      original_name=Module\n",
      "      (skip): RecursiveScriptModule(original_name=Module)\n",
      "      (skipbn): RecursiveScriptModule(original_name=Module)\n",
      "      (relu): RecursiveScriptModule(original_name=Module)\n",
      "      (rep): RecursiveScriptModule(\n",
      "        original_name=Module\n",
      "        (0): RecursiveScriptModule(original_name=Module)\n",
      "        (1): RecursiveScriptModule(\n",
      "          original_name=Module\n",
      "          (conv1): RecursiveScriptModule(original_name=Module)\n",
      "          (pointwise): RecursiveScriptModule(original_name=Module)\n",
      "        )\n",
      "        (2): RecursiveScriptModule(original_name=Module)\n",
      "        (3): RecursiveScriptModule(original_name=Module)\n",
      "        (4): RecursiveScriptModule(\n",
      "          original_name=Module\n",
      "          (conv1): RecursiveScriptModule(original_name=Module)\n",
      "          (pointwise): RecursiveScriptModule(original_name=Module)\n",
      "        )\n",
      "        (5): RecursiveScriptModule(original_name=Module)\n",
      "        (6): RecursiveScriptModule(original_name=Module)\n",
      "      )\n",
      "    )\n",
      "    (relu): RecursiveScriptModule(original_name=Module)\n",
      "  )\n",
      "  (classifier): RecursiveScriptModule(\n",
      "    original_name=Module\n",
      "    (conv2d_f): RecursiveScriptModule(original_name=Module)\n",
      "    (glob_avg_bool): RecursiveScriptModule(original_name=Module)\n",
      "  )\n",
      ")\n",
      "def forward(self,\n",
      "    input: Tensor) -> Tensor:\n",
      "  _0 = self.classifier\n",
      "  _1 = (self.feature_extractor).forward(input, )\n",
      "  return (_0).forward(_1, )\n",
      "\n"
     ]
    }
   ],
   "source": [
    "traced.save('./models/expression.zip')\n",
    "\n",
    "loaded = torch.jit.load('./models/expression.zip')\n",
    "print(loaded)\n",
    "print(loaded.code)"
   ]
  },
  {
   "cell_type": "markdown",
   "metadata": {},
   "source": [
    "# Multi model"
   ]
  },
  {
   "cell_type": "code",
   "execution_count": 11,
   "metadata": {},
   "outputs": [
    {
     "data": {
      "text/plain": [
       "<All keys matched successfully>"
      ]
     },
     "execution_count": 11,
     "metadata": {},
     "output_type": "execute_result"
    }
   ],
   "source": [
    "model = MultipleModel()\n",
    "model.load_state_dict(torch.load(\"./models/multiple.pth\", map_location=\"cpu\"))"
   ]
  },
  {
   "cell_type": "markdown",
   "metadata": {},
   "source": [
    "## Feature Extractor"
   ]
  },
  {
   "cell_type": "code",
   "execution_count": 12,
   "metadata": {},
   "outputs": [],
   "source": [
    "feature_extractor = model.feature_extractor"
   ]
  },
  {
   "cell_type": "code",
   "execution_count": 13,
   "metadata": {},
   "outputs": [],
   "source": [
    "traced = torch.jit.trace(feature_extractor, inp)"
   ]
  },
  {
   "cell_type": "code",
   "execution_count": 14,
   "metadata": {},
   "outputs": [
    {
     "name": "stdout",
     "output_type": "stream",
     "text": [
      "Model\n",
      "Feature_Extractor(\n",
      "  original_name=Feature_Extractor\n",
      "  (con2d_1): Conv2d(original_name=Conv2d)\n",
      "  (bn_1): BatchNorm2d(original_name=BatchNorm2d)\n",
      "  (con2d_2): Conv2d(original_name=Conv2d)\n",
      "  (bn_2): BatchNorm2d(original_name=BatchNorm2d)\n",
      "  (block_1): Block(\n",
      "    original_name=Block\n",
      "    (skip): Conv2d(original_name=Conv2d)\n",
      "    (skipbn): BatchNorm2d(original_name=BatchNorm2d)\n",
      "    (relu): ReLU(original_name=ReLU)\n",
      "    (rep): Sequential(\n",
      "      original_name=Sequential\n",
      "      (0): ReLU(original_name=ReLU)\n",
      "      (1): SeparableConv2d(\n",
      "        original_name=SeparableConv2d\n",
      "        (conv1): Conv2d(original_name=Conv2d)\n",
      "        (pointwise): Conv2d(original_name=Conv2d)\n",
      "      )\n",
      "      (2): BatchNorm2d(original_name=BatchNorm2d)\n",
      "      (3): ReLU(original_name=ReLU)\n",
      "      (4): SeparableConv2d(\n",
      "        original_name=SeparableConv2d\n",
      "        (conv1): Conv2d(original_name=Conv2d)\n",
      "        (pointwise): Conv2d(original_name=Conv2d)\n",
      "      )\n",
      "      (5): BatchNorm2d(original_name=BatchNorm2d)\n",
      "      (6): MaxPool2d(original_name=MaxPool2d)\n",
      "    )\n",
      "  )\n",
      "  (block_2): Block(\n",
      "    original_name=Block\n",
      "    (skip): Conv2d(original_name=Conv2d)\n",
      "    (skipbn): BatchNorm2d(original_name=BatchNorm2d)\n",
      "    (relu): ReLU(original_name=ReLU)\n",
      "    (rep): Sequential(\n",
      "      original_name=Sequential\n",
      "      (0): ReLU(original_name=ReLU)\n",
      "      (1): SeparableConv2d(\n",
      "        original_name=SeparableConv2d\n",
      "        (conv1): Conv2d(original_name=Conv2d)\n",
      "        (pointwise): Conv2d(original_name=Conv2d)\n",
      "      )\n",
      "      (2): BatchNorm2d(original_name=BatchNorm2d)\n",
      "      (3): ReLU(original_name=ReLU)\n",
      "      (4): SeparableConv2d(\n",
      "        original_name=SeparableConv2d\n",
      "        (conv1): Conv2d(original_name=Conv2d)\n",
      "        (pointwise): Conv2d(original_name=Conv2d)\n",
      "      )\n",
      "      (5): BatchNorm2d(original_name=BatchNorm2d)\n",
      "      (6): MaxPool2d(original_name=MaxPool2d)\n",
      "    )\n",
      "  )\n",
      "  (block_3): Block(\n",
      "    original_name=Block\n",
      "    (skip): Conv2d(original_name=Conv2d)\n",
      "    (skipbn): BatchNorm2d(original_name=BatchNorm2d)\n",
      "    (relu): ReLU(original_name=ReLU)\n",
      "    (rep): Sequential(\n",
      "      original_name=Sequential\n",
      "      (0): ReLU(original_name=ReLU)\n",
      "      (1): SeparableConv2d(\n",
      "        original_name=SeparableConv2d\n",
      "        (conv1): Conv2d(original_name=Conv2d)\n",
      "        (pointwise): Conv2d(original_name=Conv2d)\n",
      "      )\n",
      "      (2): BatchNorm2d(original_name=BatchNorm2d)\n",
      "      (3): ReLU(original_name=ReLU)\n",
      "      (4): SeparableConv2d(\n",
      "        original_name=SeparableConv2d\n",
      "        (conv1): Conv2d(original_name=Conv2d)\n",
      "        (pointwise): Conv2d(original_name=Conv2d)\n",
      "      )\n",
      "      (5): BatchNorm2d(original_name=BatchNorm2d)\n",
      "      (6): MaxPool2d(original_name=MaxPool2d)\n",
      "    )\n",
      "  )\n",
      "  (block_4): Block(\n",
      "    original_name=Block\n",
      "    (skip): Conv2d(original_name=Conv2d)\n",
      "    (skipbn): BatchNorm2d(original_name=BatchNorm2d)\n",
      "    (relu): ReLU(original_name=ReLU)\n",
      "    (rep): Sequential(\n",
      "      original_name=Sequential\n",
      "      (0): ReLU(original_name=ReLU)\n",
      "      (1): SeparableConv2d(\n",
      "        original_name=SeparableConv2d\n",
      "        (conv1): Conv2d(original_name=Conv2d)\n",
      "        (pointwise): Conv2d(original_name=Conv2d)\n",
      "      )\n",
      "      (2): BatchNorm2d(original_name=BatchNorm2d)\n",
      "      (3): ReLU(original_name=ReLU)\n",
      "      (4): SeparableConv2d(\n",
      "        original_name=SeparableConv2d\n",
      "        (conv1): Conv2d(original_name=Conv2d)\n",
      "        (pointwise): Conv2d(original_name=Conv2d)\n",
      "      )\n",
      "      (5): BatchNorm2d(original_name=BatchNorm2d)\n",
      "      (6): MaxPool2d(original_name=MaxPool2d)\n",
      "    )\n",
      "  )\n",
      "  (relu): ReLU(original_name=ReLU)\n",
      ")\n",
      "graph\n",
      "graph(%self.1 : __torch__.torch.nn.modules.module.___torch_mangle_364.Module,\n",
      "      %input.1 : Float(1, 3, 64, 64)):\n",
      "  %1283 : __torch__.torch.nn.modules.module.___torch_mangle_362.Module = prim::GetAttr[name=\"block_4\"](%self.1)\n",
      "  %1248 : __torch__.torch.nn.modules.module.___torch_mangle_346.Module = prim::GetAttr[name=\"block_3\"](%self.1)\n",
      "  %1213 : __torch__.torch.nn.modules.module.___torch_mangle_330.Module = prim::GetAttr[name=\"block_2\"](%self.1)\n",
      "  %1178 : __torch__.torch.nn.modules.module.___torch_mangle_314.Module = prim::GetAttr[name=\"block_1\"](%self.1)\n",
      "  %1143 : __torch__.torch.nn.modules.module.___torch_mangle_298.Module = prim::GetAttr[name=\"bn_2\"](%self.1)\n",
      "  %1137 : __torch__.torch.nn.modules.module.___torch_mangle_297.Module = prim::GetAttr[name=\"con2d_2\"](%self.1)\n",
      "  %1135 : __torch__.torch.nn.modules.module.___torch_mangle_363.Module = prim::GetAttr[name=\"relu\"](%self.1)\n",
      "  %1134 : __torch__.torch.nn.modules.module.___torch_mangle_296.Module = prim::GetAttr[name=\"bn_1\"](%self.1)\n",
      "  %1128 : __torch__.torch.nn.modules.module.___torch_mangle_295.Module = prim::GetAttr[name=\"con2d_1\"](%self.1)\n",
      "  %1350 : Tensor = prim::CallMethod[name=\"forward\"](%1128, %input.1)\n",
      "  %1351 : Tensor = prim::CallMethod[name=\"forward\"](%1134, %1350)\n",
      "  %1352 : Tensor = prim::CallMethod[name=\"forward\"](%1135, %1351)\n",
      "  %1353 : Tensor = prim::CallMethod[name=\"forward\"](%1137, %1352)\n",
      "  %1354 : Tensor = prim::CallMethod[name=\"forward\"](%1143, %1353)\n",
      "  %1355 : Tensor = prim::CallMethod[name=\"forward1\"](%1135, %1354)\n",
      "  %1356 : Tensor = prim::CallMethod[name=\"forward\"](%1178, %1355)\n",
      "  %1357 : Tensor = prim::CallMethod[name=\"forward\"](%1213, %1356)\n",
      "  %1358 : Tensor = prim::CallMethod[name=\"forward\"](%1248, %1357)\n",
      "  %1359 : Tensor = prim::CallMethod[name=\"forward\"](%1283, %1358)\n",
      "  return (%1359)\n",
      "\n",
      "code\n",
      "def forward(self,\n",
      "    input: Tensor) -> Tensor:\n",
      "  _0 = self.block_4\n",
      "  _1 = self.block_3\n",
      "  _2 = self.block_2\n",
      "  _3 = self.block_1\n",
      "  _4 = self.bn_2\n",
      "  _5 = self.con2d_2\n",
      "  _6 = self.relu\n",
      "  _7 = (self.bn_1).forward((self.con2d_1).forward(input, ), )\n",
      "  _8 = (_4).forward((_5).forward((_6).forward(_7, ), ), )\n",
      "  _9 = (_2).forward((_3).forward((_6).forward1(_8, ), ), )\n",
      "  return (_0).forward((_1).forward(_9, ), )\n",
      "\n"
     ]
    }
   ],
   "source": [
    "# Displaying\n",
    "print(\"Model\")\n",
    "print(traced)\n",
    "print(\"graph\")\n",
    "print(traced.graph)\n",
    "print(\"code\")\n",
    "print(traced.code)"
   ]
  },
  {
   "cell_type": "code",
   "execution_count": 15,
   "metadata": {},
   "outputs": [
    {
     "name": "stdout",
     "output_type": "stream",
     "text": [
      "RecursiveScriptModule(\n",
      "  original_name=Module\n",
      "  (con2d_1): RecursiveScriptModule(original_name=Module)\n",
      "  (bn_1): RecursiveScriptModule(original_name=Module)\n",
      "  (con2d_2): RecursiveScriptModule(original_name=Module)\n",
      "  (bn_2): RecursiveScriptModule(original_name=Module)\n",
      "  (block_1): RecursiveScriptModule(\n",
      "    original_name=Module\n",
      "    (skip): RecursiveScriptModule(original_name=Module)\n",
      "    (skipbn): RecursiveScriptModule(original_name=Module)\n",
      "    (relu): RecursiveScriptModule(original_name=Module)\n",
      "    (rep): RecursiveScriptModule(\n",
      "      original_name=Module\n",
      "      (0): RecursiveScriptModule(original_name=Module)\n",
      "      (1): RecursiveScriptModule(\n",
      "        original_name=Module\n",
      "        (conv1): RecursiveScriptModule(original_name=Module)\n",
      "        (pointwise): RecursiveScriptModule(original_name=Module)\n",
      "      )\n",
      "      (2): RecursiveScriptModule(original_name=Module)\n",
      "      (3): RecursiveScriptModule(original_name=Module)\n",
      "      (4): RecursiveScriptModule(\n",
      "        original_name=Module\n",
      "        (conv1): RecursiveScriptModule(original_name=Module)\n",
      "        (pointwise): RecursiveScriptModule(original_name=Module)\n",
      "      )\n",
      "      (5): RecursiveScriptModule(original_name=Module)\n",
      "      (6): RecursiveScriptModule(original_name=Module)\n",
      "    )\n",
      "  )\n",
      "  (block_2): RecursiveScriptModule(\n",
      "    original_name=Module\n",
      "    (skip): RecursiveScriptModule(original_name=Module)\n",
      "    (skipbn): RecursiveScriptModule(original_name=Module)\n",
      "    (relu): RecursiveScriptModule(original_name=Module)\n",
      "    (rep): RecursiveScriptModule(\n",
      "      original_name=Module\n",
      "      (0): RecursiveScriptModule(original_name=Module)\n",
      "      (1): RecursiveScriptModule(\n",
      "        original_name=Module\n",
      "        (conv1): RecursiveScriptModule(original_name=Module)\n",
      "        (pointwise): RecursiveScriptModule(original_name=Module)\n",
      "      )\n",
      "      (2): RecursiveScriptModule(original_name=Module)\n",
      "      (3): RecursiveScriptModule(original_name=Module)\n",
      "      (4): RecursiveScriptModule(\n",
      "        original_name=Module\n",
      "        (conv1): RecursiveScriptModule(original_name=Module)\n",
      "        (pointwise): RecursiveScriptModule(original_name=Module)\n",
      "      )\n",
      "      (5): RecursiveScriptModule(original_name=Module)\n",
      "      (6): RecursiveScriptModule(original_name=Module)\n",
      "    )\n",
      "  )\n",
      "  (block_3): RecursiveScriptModule(\n",
      "    original_name=Module\n",
      "    (skip): RecursiveScriptModule(original_name=Module)\n",
      "    (skipbn): RecursiveScriptModule(original_name=Module)\n",
      "    (relu): RecursiveScriptModule(original_name=Module)\n",
      "    (rep): RecursiveScriptModule(\n",
      "      original_name=Module\n",
      "      (0): RecursiveScriptModule(original_name=Module)\n",
      "      (1): RecursiveScriptModule(\n",
      "        original_name=Module\n",
      "        (conv1): RecursiveScriptModule(original_name=Module)\n",
      "        (pointwise): RecursiveScriptModule(original_name=Module)\n",
      "      )\n",
      "      (2): RecursiveScriptModule(original_name=Module)\n",
      "      (3): RecursiveScriptModule(original_name=Module)\n",
      "      (4): RecursiveScriptModule(\n",
      "        original_name=Module\n",
      "        (conv1): RecursiveScriptModule(original_name=Module)\n",
      "        (pointwise): RecursiveScriptModule(original_name=Module)\n",
      "      )\n",
      "      (5): RecursiveScriptModule(original_name=Module)\n",
      "      (6): RecursiveScriptModule(original_name=Module)\n",
      "    )\n",
      "  )\n",
      "  (block_4): RecursiveScriptModule(\n",
      "    original_name=Module\n",
      "    (skip): RecursiveScriptModule(original_name=Module)\n",
      "    (skipbn): RecursiveScriptModule(original_name=Module)\n",
      "    (relu): RecursiveScriptModule(original_name=Module)\n",
      "    (rep): RecursiveScriptModule(\n",
      "      original_name=Module\n",
      "      (0): RecursiveScriptModule(original_name=Module)\n",
      "      (1): RecursiveScriptModule(\n",
      "        original_name=Module\n",
      "        (conv1): RecursiveScriptModule(original_name=Module)\n",
      "        (pointwise): RecursiveScriptModule(original_name=Module)\n",
      "      )\n",
      "      (2): RecursiveScriptModule(original_name=Module)\n",
      "      (3): RecursiveScriptModule(original_name=Module)\n",
      "      (4): RecursiveScriptModule(\n",
      "        original_name=Module\n",
      "        (conv1): RecursiveScriptModule(original_name=Module)\n",
      "        (pointwise): RecursiveScriptModule(original_name=Module)\n",
      "      )\n",
      "      (5): RecursiveScriptModule(original_name=Module)\n",
      "      (6): RecursiveScriptModule(original_name=Module)\n",
      "    )\n",
      "  )\n",
      "  (relu): RecursiveScriptModule(original_name=Module)\n",
      ")\n",
      "def forward(self,\n",
      "    input: Tensor) -> Tensor:\n",
      "  _0 = self.block_4\n",
      "  _1 = self.block_3\n",
      "  _2 = self.block_2\n",
      "  _3 = self.block_1\n",
      "  _4 = self.bn_2\n",
      "  _5 = self.con2d_2\n",
      "  _6 = self.relu\n",
      "  _7 = (self.bn_1).forward((self.con2d_1).forward(input, ), )\n",
      "  _8 = (_4).forward((_5).forward((_6).forward(_7, ), ), )\n",
      "  _9 = (_2).forward((_3).forward((_6).forward1(_8, ), ), )\n",
      "  return (_0).forward((_1).forward(_9, ), )\n",
      "\n"
     ]
    }
   ],
   "source": [
    "traced.save('./models/multiple/feature_extractor.zip')\n",
    "\n",
    "loaded = torch.jit.load('./models/multiple/feature_extractor.zip')\n",
    "print(loaded)\n",
    "print(loaded.code)"
   ]
  },
  {
   "cell_type": "markdown",
   "metadata": {},
   "source": [
    "## Illumination"
   ]
  },
  {
   "cell_type": "code",
   "execution_count": 16,
   "metadata": {},
   "outputs": [],
   "source": [
    "inp = torch.rand(1, 128, 4, 4)"
   ]
  },
  {
   "cell_type": "code",
   "execution_count": 17,
   "metadata": {},
   "outputs": [],
   "source": [
    "illumination = model.illumination"
   ]
  },
  {
   "cell_type": "code",
   "execution_count": 18,
   "metadata": {},
   "outputs": [],
   "source": [
    "traced = torch.jit.trace(illumination, inp)"
   ]
  },
  {
   "cell_type": "code",
   "execution_count": 19,
   "metadata": {
    "scrolled": true
   },
   "outputs": [
    {
     "name": "stdout",
     "output_type": "stream",
     "text": [
      "Model\n",
      "Classifier(\n",
      "  original_name=Classifier\n",
      "  (conv2d_f): Conv2d(original_name=Conv2d)\n",
      "  (glob_avg_bool): AvgPool2d(original_name=AvgPool2d)\n",
      ")\n",
      "graph\n",
      "graph(%self.1 : __torch__.torch.nn.modules.module.___torch_mangle_437.Module,\n",
      "      %input.1 : Float(1, 128, 4, 4)):\n",
      "  %45 : __torch__.torch.nn.modules.module.___torch_mangle_436.Module = prim::GetAttr[name=\"glob_avg_bool\"](%self.1)\n",
      "  %44 : __torch__.torch.nn.modules.module.___torch_mangle_435.Module = prim::GetAttr[name=\"conv2d_f\"](%self.1)\n",
      "  %48 : Tensor = prim::CallMethod[name=\"forward\"](%44, %input.1)\n",
      "  %49 : Tensor = prim::CallMethod[name=\"forward\"](%45, %48)\n",
      "  return (%49)\n",
      "\n",
      "code\n",
      "def forward(self,\n",
      "    input: Tensor) -> Tensor:\n",
      "  _0 = (self.glob_avg_bool).forward((self.conv2d_f).forward(input, ), )\n",
      "  return _0\n",
      "\n"
     ]
    }
   ],
   "source": [
    "# Displaying\n",
    "print(\"Model\")\n",
    "print(traced)\n",
    "print(\"graph\")\n",
    "print(traced.graph)\n",
    "print(\"code\")\n",
    "print(traced.code)"
   ]
  },
  {
   "cell_type": "code",
   "execution_count": 20,
   "metadata": {},
   "outputs": [
    {
     "name": "stdout",
     "output_type": "stream",
     "text": [
      "RecursiveScriptModule(\n",
      "  original_name=Module\n",
      "  (conv2d_f): RecursiveScriptModule(original_name=Module)\n",
      "  (glob_avg_bool): RecursiveScriptModule(original_name=Module)\n",
      ")\n",
      "def forward(self,\n",
      "    input: Tensor) -> Tensor:\n",
      "  _0 = (self.glob_avg_bool).forward((self.conv2d_f).forward(input, ), )\n",
      "  return _0\n",
      "\n"
     ]
    }
   ],
   "source": [
    "traced.save('./models/multiple/illumination.zip')\n",
    "\n",
    "loaded = torch.jit.load('./models/multiple/illumination.zip')\n",
    "print(loaded)\n",
    "print(loaded.code)"
   ]
  },
  {
   "cell_type": "markdown",
   "metadata": {},
   "source": [
    "## Pose"
   ]
  },
  {
   "cell_type": "code",
   "execution_count": 21,
   "metadata": {},
   "outputs": [],
   "source": [
    "pose = model.pose"
   ]
  },
  {
   "cell_type": "code",
   "execution_count": 22,
   "metadata": {},
   "outputs": [],
   "source": [
    "traced = torch.jit.trace(pose, inp)"
   ]
  },
  {
   "cell_type": "code",
   "execution_count": 23,
   "metadata": {},
   "outputs": [
    {
     "name": "stdout",
     "output_type": "stream",
     "text": [
      "Model\n",
      "Classifier(\n",
      "  original_name=Classifier\n",
      "  (conv2d_f): Conv2d(original_name=Conv2d)\n",
      "  (glob_avg_bool): AvgPool2d(original_name=AvgPool2d)\n",
      ")\n",
      "graph\n",
      "graph(%self.1 : __torch__.torch.nn.modules.module.___torch_mangle_443.Module,\n",
      "      %input.1 : Float(1, 128, 4, 4)):\n",
      "  %45 : __torch__.torch.nn.modules.module.___torch_mangle_442.Module = prim::GetAttr[name=\"glob_avg_bool\"](%self.1)\n",
      "  %44 : __torch__.torch.nn.modules.module.___torch_mangle_441.Module = prim::GetAttr[name=\"conv2d_f\"](%self.1)\n",
      "  %48 : Tensor = prim::CallMethod[name=\"forward\"](%44, %input.1)\n",
      "  %49 : Tensor = prim::CallMethod[name=\"forward\"](%45, %48)\n",
      "  return (%49)\n",
      "\n",
      "code\n",
      "def forward(self,\n",
      "    input: Tensor) -> Tensor:\n",
      "  _0 = (self.glob_avg_bool).forward((self.conv2d_f).forward(input, ), )\n",
      "  return _0\n",
      "\n"
     ]
    }
   ],
   "source": [
    "# Displaying\n",
    "print(\"Model\")\n",
    "print(traced)\n",
    "print(\"graph\")\n",
    "print(traced.graph)\n",
    "print(\"code\")\n",
    "print(traced.code)"
   ]
  },
  {
   "cell_type": "code",
   "execution_count": 24,
   "metadata": {},
   "outputs": [
    {
     "name": "stdout",
     "output_type": "stream",
     "text": [
      "RecursiveScriptModule(\n",
      "  original_name=Module\n",
      "  (conv2d_f): RecursiveScriptModule(original_name=Module)\n",
      "  (glob_avg_bool): RecursiveScriptModule(original_name=Module)\n",
      ")\n",
      "def forward(self,\n",
      "    input: Tensor) -> Tensor:\n",
      "  _0 = (self.glob_avg_bool).forward((self.conv2d_f).forward(input, ), )\n",
      "  return _0\n",
      "\n"
     ]
    }
   ],
   "source": [
    "traced.save('./models/multiple/pose.zip')\n",
    "\n",
    "loaded = torch.jit.load('./models/multiple/pose.zip')\n",
    "print(loaded)\n",
    "print(loaded.code)"
   ]
  },
  {
   "cell_type": "markdown",
   "metadata": {},
   "source": [
    "## Occlusion"
   ]
  },
  {
   "cell_type": "code",
   "execution_count": 25,
   "metadata": {},
   "outputs": [],
   "source": [
    "occlusion = model.occlusion"
   ]
  },
  {
   "cell_type": "code",
   "execution_count": 26,
   "metadata": {},
   "outputs": [],
   "source": [
    "traced = torch.jit.trace(occlusion, inp)"
   ]
  },
  {
   "cell_type": "code",
   "execution_count": 27,
   "metadata": {},
   "outputs": [
    {
     "name": "stdout",
     "output_type": "stream",
     "text": [
      "Model\n",
      "Classifier(\n",
      "  original_name=Classifier\n",
      "  (conv2d_f): Conv2d(original_name=Conv2d)\n",
      "  (glob_avg_bool): AvgPool2d(original_name=AvgPool2d)\n",
      ")\n",
      "graph\n",
      "graph(%self.1 : __torch__.torch.nn.modules.module.___torch_mangle_449.Module,\n",
      "      %input.1 : Float(1, 128, 4, 4)):\n",
      "  %45 : __torch__.torch.nn.modules.module.___torch_mangle_448.Module = prim::GetAttr[name=\"glob_avg_bool\"](%self.1)\n",
      "  %44 : __torch__.torch.nn.modules.module.___torch_mangle_447.Module = prim::GetAttr[name=\"conv2d_f\"](%self.1)\n",
      "  %48 : Tensor = prim::CallMethod[name=\"forward\"](%44, %input.1)\n",
      "  %49 : Tensor = prim::CallMethod[name=\"forward\"](%45, %48)\n",
      "  return (%49)\n",
      "\n",
      "code\n",
      "def forward(self,\n",
      "    input: Tensor) -> Tensor:\n",
      "  _0 = (self.glob_avg_bool).forward((self.conv2d_f).forward(input, ), )\n",
      "  return _0\n",
      "\n"
     ]
    }
   ],
   "source": [
    "# Displaying\n",
    "print(\"Model\")\n",
    "print(traced)\n",
    "print(\"graph\")\n",
    "print(traced.graph)\n",
    "print(\"code\")\n",
    "print(traced.code)"
   ]
  },
  {
   "cell_type": "code",
   "execution_count": 28,
   "metadata": {},
   "outputs": [
    {
     "name": "stdout",
     "output_type": "stream",
     "text": [
      "RecursiveScriptModule(\n",
      "  original_name=Module\n",
      "  (conv2d_f): RecursiveScriptModule(original_name=Module)\n",
      "  (glob_avg_bool): RecursiveScriptModule(original_name=Module)\n",
      ")\n",
      "def forward(self,\n",
      "    input: Tensor) -> Tensor:\n",
      "  _0 = (self.glob_avg_bool).forward((self.conv2d_f).forward(input, ), )\n",
      "  return _0\n",
      "\n"
     ]
    }
   ],
   "source": [
    "traced.save('./models/occlusion.zip')\n",
    "\n",
    "loaded = torch.jit.load('./models/occlusion.zip')\n",
    "print(loaded)\n",
    "print(loaded.code)"
   ]
  },
  {
   "cell_type": "markdown",
   "metadata": {},
   "source": [
    "## Age"
   ]
  },
  {
   "cell_type": "code",
   "execution_count": 29,
   "metadata": {},
   "outputs": [],
   "source": [
    "age = model.age"
   ]
  },
  {
   "cell_type": "code",
   "execution_count": 30,
   "metadata": {},
   "outputs": [],
   "source": [
    "traced = torch.jit.trace(age, inp)"
   ]
  },
  {
   "cell_type": "code",
   "execution_count": 31,
   "metadata": {},
   "outputs": [
    {
     "name": "stdout",
     "output_type": "stream",
     "text": [
      "Model\n",
      "Classifier(\n",
      "  original_name=Classifier\n",
      "  (conv2d_f): Conv2d(original_name=Conv2d)\n",
      "  (glob_avg_bool): AvgPool2d(original_name=AvgPool2d)\n",
      ")\n",
      "graph\n",
      "graph(%self.1 : __torch__.torch.nn.modules.module.___torch_mangle_455.Module,\n",
      "      %input.1 : Float(1, 128, 4, 4)):\n",
      "  %45 : __torch__.torch.nn.modules.module.___torch_mangle_454.Module = prim::GetAttr[name=\"glob_avg_bool\"](%self.1)\n",
      "  %44 : __torch__.torch.nn.modules.module.___torch_mangle_453.Module = prim::GetAttr[name=\"conv2d_f\"](%self.1)\n",
      "  %48 : Tensor = prim::CallMethod[name=\"forward\"](%44, %input.1)\n",
      "  %49 : Tensor = prim::CallMethod[name=\"forward\"](%45, %48)\n",
      "  return (%49)\n",
      "\n",
      "code\n",
      "def forward(self,\n",
      "    input: Tensor) -> Tensor:\n",
      "  _0 = (self.glob_avg_bool).forward((self.conv2d_f).forward(input, ), )\n",
      "  return _0\n",
      "\n"
     ]
    }
   ],
   "source": [
    "# Displaying\n",
    "print(\"Model\")\n",
    "print(traced)\n",
    "print(\"graph\")\n",
    "print(traced.graph)\n",
    "print(\"code\")\n",
    "print(traced.code)"
   ]
  },
  {
   "cell_type": "code",
   "execution_count": 32,
   "metadata": {},
   "outputs": [
    {
     "name": "stdout",
     "output_type": "stream",
     "text": [
      "RecursiveScriptModule(\n",
      "  original_name=Module\n",
      "  (conv2d_f): RecursiveScriptModule(original_name=Module)\n",
      "  (glob_avg_bool): RecursiveScriptModule(original_name=Module)\n",
      ")\n",
      "def forward(self,\n",
      "    input: Tensor) -> Tensor:\n",
      "  _0 = (self.glob_avg_bool).forward((self.conv2d_f).forward(input, ), )\n",
      "  return _0\n",
      "\n"
     ]
    }
   ],
   "source": [
    "traced.save('./models/multiple/age.zip')\n",
    "\n",
    "loaded = torch.jit.load('./models/multiple/age.zip')\n",
    "print(loaded)\n",
    "print(loaded.code)"
   ]
  },
  {
   "cell_type": "markdown",
   "metadata": {},
   "source": [
    "## Makeup"
   ]
  },
  {
   "cell_type": "code",
   "execution_count": 33,
   "metadata": {},
   "outputs": [],
   "source": [
    "makeup = model.makeup"
   ]
  },
  {
   "cell_type": "code",
   "execution_count": 34,
   "metadata": {},
   "outputs": [],
   "source": [
    "traced = torch.jit.trace(makeup, inp)"
   ]
  },
  {
   "cell_type": "code",
   "execution_count": 35,
   "metadata": {},
   "outputs": [
    {
     "name": "stdout",
     "output_type": "stream",
     "text": [
      "Model\n",
      "Classifier(\n",
      "  original_name=Classifier\n",
      "  (conv2d_f): Conv2d(original_name=Conv2d)\n",
      "  (glob_avg_bool): AvgPool2d(original_name=AvgPool2d)\n",
      ")\n",
      "graph\n",
      "graph(%self.1 : __torch__.torch.nn.modules.module.___torch_mangle_461.Module,\n",
      "      %input.1 : Float(1, 128, 4, 4)):\n",
      "  %45 : __torch__.torch.nn.modules.module.___torch_mangle_460.Module = prim::GetAttr[name=\"glob_avg_bool\"](%self.1)\n",
      "  %44 : __torch__.torch.nn.modules.module.___torch_mangle_459.Module = prim::GetAttr[name=\"conv2d_f\"](%self.1)\n",
      "  %48 : Tensor = prim::CallMethod[name=\"forward\"](%44, %input.1)\n",
      "  %49 : Tensor = prim::CallMethod[name=\"forward\"](%45, %48)\n",
      "  return (%49)\n",
      "\n",
      "code\n",
      "def forward(self,\n",
      "    input: Tensor) -> Tensor:\n",
      "  _0 = (self.glob_avg_bool).forward((self.conv2d_f).forward(input, ), )\n",
      "  return _0\n",
      "\n"
     ]
    }
   ],
   "source": [
    "# Displaying\n",
    "print(\"Model\")\n",
    "print(traced)\n",
    "print(\"graph\")\n",
    "print(traced.graph)\n",
    "print(\"code\")\n",
    "print(traced.code)"
   ]
  },
  {
   "cell_type": "code",
   "execution_count": 36,
   "metadata": {},
   "outputs": [
    {
     "name": "stdout",
     "output_type": "stream",
     "text": [
      "RecursiveScriptModule(\n",
      "  original_name=Module\n",
      "  (conv2d_f): RecursiveScriptModule(original_name=Module)\n",
      "  (glob_avg_bool): RecursiveScriptModule(original_name=Module)\n",
      ")\n",
      "def forward(self,\n",
      "    input: Tensor) -> Tensor:\n",
      "  _0 = (self.glob_avg_bool).forward((self.conv2d_f).forward(input, ), )\n",
      "  return _0\n",
      "\n"
     ]
    }
   ],
   "source": [
    "traced.save('./models/multiple/makeup.zip')\n",
    "\n",
    "loaded = torch.jit.load('./models/multiple/makeup.zip')\n",
    "print(loaded)\n",
    "print(loaded.code)"
   ]
  }
 ],
 "metadata": {
  "kernelspec": {
   "display_name": "Python 3",
   "language": "python",
   "name": "python3"
  },
  "language_info": {
   "codemirror_mode": {
    "name": "ipython",
    "version": 3
   },
   "file_extension": ".py",
   "mimetype": "text/x-python",
   "name": "python",
   "nbconvert_exporter": "python",
   "pygments_lexer": "ipython3",
   "version": "3.7.4"
  }
 },
 "nbformat": 4,
 "nbformat_minor": 2
}
