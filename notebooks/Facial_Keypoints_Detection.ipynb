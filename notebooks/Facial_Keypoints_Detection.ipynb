{
  "nbformat": 4,
  "nbformat_minor": 0,
  "metadata": {
    "colab": {
      "name": "Copy_of_Facial_Keypoints_Detection.ipynb",
      "provenance": [],
      "collapsed_sections": [],
      "machine_shape": "hm"
    },
    "kernelspec": {
      "name": "python3",
      "display_name": "Python 3"
    },
    "accelerator": "GPU"
  },
  "cells": [
    {
      "cell_type": "markdown",
      "metadata": {
        "id": "NfsegVsVf5N2",
        "colab_type": "text"
      },
      "source": [
        "# Facial Keypoints Detection"
      ]
    },
    {
      "cell_type": "markdown",
      "metadata": {
        "id": "qhzQOXUmf8t2",
        "colab_type": "text"
      },
      "source": [
        "## Info"
      ]
    },
    {
      "cell_type": "markdown",
      "metadata": {
        "id": "Npry0sK9gDOw",
        "colab_type": "text"
      },
      "source": [
        "# Header"
      ]
    },
    {
      "cell_type": "markdown",
      "metadata": {
        "id": "g6XwEkQIgFX7",
        "colab_type": "text"
      },
      "source": [
        "## Import Necessary Packages"
      ]
    },
    {
      "cell_type": "code",
      "metadata": {
        "id": "41DCYHT1gChc",
        "colab_type": "code",
        "colab": {}
      },
      "source": [
        "# low level\n",
        "from enum import Enum\n",
        "import os\n",
        "import random\n",
        "from time import time\n",
        "import datetime\n",
        "import math\n",
        "\n",
        "# middle level\n",
        "import numpy as np\n",
        "import pandas as pd\n",
        "import matplotlib.pyplot as plt\n",
        "import matplotlib.image as mpimg\n",
        "import cv2\n",
        "from PIL import Image\n",
        "from mpl_toolkits.mplot3d import Axes3D \n",
        "\n",
        "# frameworks\n",
        "import torch \n",
        "from torch import nn, optim\n",
        "from torch.nn import functional as F\n",
        "from torch.utils.data import Dataset, DataLoader\n",
        "from torch.utils.data.sampler import SubsetRandomSampler\n",
        "from torchvision import transforms\n",
        "from torchvision.models import resnet18"
      ],
      "execution_count": 0,
      "outputs": []
    },
    {
      "cell_type": "markdown",
      "metadata": {
        "id": "EqYXimOigjdE",
        "colab_type": "text"
      },
      "source": [
        "## Mout Google Dirve"
      ]
    },
    {
      "cell_type": "code",
      "metadata": {
        "id": "1PFGgKAggjKW",
        "colab_type": "code",
        "outputId": "f5985245-9b68-4637-f2e0-9cf5eacda001",
        "colab": {
          "base_uri": "https://localhost:8080/",
          "height": 132
        }
      },
      "source": [
        "from google.colab import drive\n",
        "drive.mount('/content/drive')"
      ],
      "execution_count": 3,
      "outputs": [
        {
          "output_type": "stream",
          "text": [
            "Go to this URL in a browser: https://accounts.google.com/o/oauth2/auth?client_id=947318989803-6bn6qk8qdgf4n4g3pfee6491hc0brc4i.apps.googleusercontent.com&redirect_uri=urn%3aietf%3awg%3aoauth%3a2.0%3aoob&response_type=code&scope=email%20https%3a%2f%2fwww.googleapis.com%2fauth%2fdocs.test%20https%3a%2f%2fwww.googleapis.com%2fauth%2fdrive%20https%3a%2f%2fwww.googleapis.com%2fauth%2fdrive.photos.readonly%20https%3a%2f%2fwww.googleapis.com%2fauth%2fpeopleapi.readonly\n",
            "\n",
            "Enter your authorization code:\n",
            "··········\n",
            "Mounted at /content/drive\n"
          ],
          "name": "stdout"
        }
      ]
    },
    {
      "cell_type": "markdown",
      "metadata": {
        "id": "zGYu81DRgr1-",
        "colab_type": "text"
      },
      "source": [
        "# Data"
      ]
    },
    {
      "cell_type": "markdown",
      "metadata": {
        "id": "mjBSlJDztQT1",
        "colab_type": "text"
      },
      "source": [
        "## Download and Extract Datas"
      ]
    },
    {
      "cell_type": "code",
      "metadata": {
        "id": "Htdg56FtTPSP",
        "colab_type": "code",
        "colab": {}
      },
      "source": [
        "# \"\"\"Make directory for dataset\"\"\"\n",
        "# !mkdir \"/content/drive/My Drive/data\"\n",
        "\n",
        "# \"\"\"Download Data\"\"\"\n",
        "# os.environ['KAGGLE_USERNAME'] = \"\" # username from the json file\n",
        "# os.environ['KAGGLE_KEY'] = \"\" # key from the json file\n",
        "# !kaggle datasets download -d  selfishgene/youtube-faces-with-facial-keypoints # api copied from kaggle\n",
        "\n",
        "# \"\"\"Extract Data\"\"\"\n",
        "# !unzip /content/youtube-faces-with-facial-keypoints.zip -d \"/content/drive/My Drive/data\""
      ],
      "execution_count": 0,
      "outputs": []
    },
    {
      "cell_type": "markdown",
      "metadata": {
        "id": "aest7VpDvXgV",
        "colab_type": "text"
      },
      "source": [
        "## Transformations"
      ]
    },
    {
      "cell_type": "markdown",
      "metadata": {
        "id": "fUakxINOdVkc",
        "colab_type": "text"
      },
      "source": [
        "### Basics"
      ]
    },
    {
      "cell_type": "markdown",
      "metadata": {
        "id": "po95ZiifR_aC",
        "colab_type": "text"
      },
      "source": [
        "**Normalization**"
      ]
    },
    {
      "cell_type": "code",
      "metadata": {
        "id": "c48YRQ4ih3J9",
        "colab_type": "code",
        "colab": {}
      },
      "source": [
        "class Normalize(object):\n",
        "    \"\"\"Normalize the color range to [0,1] and convert a color image to grayscale if needed\"\"\"        \n",
        "    def __init__(self, color = False):\n",
        "        self.color = color\n",
        "    \n",
        "    def __call__(self, sample):\n",
        "        image, key_pts = sample['image'], sample['keypoints']\n",
        "        \n",
        "        image_copy = np.copy(image)\n",
        "        key_pts_copy = np.copy(key_pts)\n",
        "\n",
        "        # convert image to grayscale\n",
        "        if not self.color:\n",
        "            image_copy = cv2.cvtColor(image, cv2.COLOR_RGB2GRAY)\n",
        "        \n",
        "        # scale color range from [0, 255] to [0, 1]\n",
        "        image_copy=  image_copy/255.0\n",
        "            \n",
        "        # scale keypoints to be centered around 0 with a range of [-2, 2]\n",
        "        key_pts_copy = (key_pts_copy - image.shape[0]/key_pts_copy.shape[1])/(image.shape[0]/key_pts_copy.shape[1]*2)\n",
        "\n",
        "\n",
        "        return {'image': image_copy, 'keypoints': key_pts_copy}\n"
      ],
      "execution_count": 0,
      "outputs": []
    },
    {
      "cell_type": "markdown",
      "metadata": {
        "id": "u63RF8nfXNcz",
        "colab_type": "text"
      },
      "source": [
        "**Rescale**"
      ]
    },
    {
      "cell_type": "code",
      "metadata": {
        "id": "MbjKCjAyYjpc",
        "colab_type": "code",
        "colab": {}
      },
      "source": [
        "class Rescale(object):\n",
        "    \"\"\"Rescale the image in a sample to a given size.\n",
        "    Args:\n",
        "        output_size (tuple or int): Desired output size. If tuple, output is\n",
        "            matched to output_size. If int, smaller of image edges is matched\n",
        "            to output_size keeping aspect ratio the same.\n",
        "    \"\"\"\n",
        "\n",
        "    def __init__(self, output_size):\n",
        "        assert isinstance(output_size, (int, tuple))\n",
        "        self.output_size = output_size\n",
        "\n",
        "    def __call__(self, sample):\n",
        "        image, key_pts = sample['image'], sample['keypoints']\n",
        "\n",
        "        h, w = image.shape[:2]\n",
        "        if isinstance(self.output_size, int):\n",
        "            if h > w:\n",
        "                new_h, new_w = self.output_size * h / w, self.output_size\n",
        "            else:\n",
        "                new_h, new_w = self.output_size, self.output_size * w / h\n",
        "        else:\n",
        "            new_h, new_w = self.output_size\n",
        "        new_h, new_w = int(new_h), int(new_w)\n",
        "            \n",
        "        img = cv2.resize(image, (new_w, new_h))\n",
        "                 \n",
        "        # scale the pts, too\n",
        "        if key_pts.shape[1] == 3:\n",
        "            key_pts = key_pts * [new_w / w, new_h / h, 1]\n",
        "        else:\n",
        "            key_pts = key_pts * [new_w / w, new_h / h]\n",
        "        \n",
        "        return {'image': img, 'keypoints': key_pts}"
      ],
      "execution_count": 0,
      "outputs": []
    },
    {
      "cell_type": "markdown",
      "metadata": {
        "id": "c-AqYM1fcHjW",
        "colab_type": "text"
      },
      "source": [
        "**To Tensor**"
      ]
    },
    {
      "cell_type": "code",
      "metadata": {
        "id": "9OZm-1uccHCQ",
        "colab_type": "code",
        "colab": {}
      },
      "source": [
        "class ToTensor(object):\n",
        "    \"\"\"Convert ndarrays in sample to Tensors.\"\"\"\n",
        "\n",
        "    def __call__(self, sample):\n",
        "        image, key_pts = sample['image'], sample['keypoints']\n",
        "         \n",
        "        # if image has no grayscale color channel, add one\n",
        "        if(len(image.shape) == 2):\n",
        "            # add that third color dim\n",
        "            image = image.reshape(image.shape[0], image.shape[1], 1)\n",
        "            \n",
        "        # swap color axis because\n",
        "        # numpy image: H x W x C\n",
        "        # torch image: C X H X W\n",
        "        image = image.transpose((2, 0, 1))\n",
        "        return {'image': torch.from_numpy(image),\n",
        "                'keypoints': torch.from_numpy(key_pts)}"
      ],
      "execution_count": 0,
      "outputs": []
    },
    {
      "cell_type": "markdown",
      "metadata": {
        "id": "Gg_D2Wnub3jR",
        "colab_type": "text"
      },
      "source": [
        "### Cropping"
      ]
    },
    {
      "cell_type": "markdown",
      "metadata": {
        "id": "khZS-xO7YprC",
        "colab_type": "text"
      },
      "source": [
        "**Random Cropping**"
      ]
    },
    {
      "cell_type": "code",
      "metadata": {
        "id": "9VvQhdn4Yoc7",
        "colab_type": "code",
        "colab": {}
      },
      "source": [
        "class RandomCrop(object):\n",
        "    \"\"\"Crop randomly the image in a sample.\n",
        "    Args:\n",
        "        output_size (tuple or int): Desired output size. If int, square crop\n",
        "            is made.\n",
        "    \"\"\"\n",
        "\n",
        "    def __init__(self, output_size):\n",
        "        assert isinstance(output_size, (int, tuple))\n",
        "        if isinstance(output_size, int):\n",
        "            self.output_size = (output_size, output_size)\n",
        "        else:\n",
        "            assert len(output_size) == 2\n",
        "            self.output_size = output_size\n",
        "\n",
        "    def __call__(self, sample):\n",
        "        image, key_pts = sample['image'], sample['keypoints']\n",
        "\n",
        "        h, w = image.shape[:2]\n",
        "        new_h, new_w = self.output_size\n",
        "\n",
        "        top = np.random.randint(0, h - new_h)\n",
        "        left = np.random.randint(0, w - new_w)\n",
        "\n",
        "        image = image[top: top + new_h,\n",
        "                      left: left + new_w]\n",
        "\n",
        "        key_pts = key_pts - [left, top]\n",
        "\n",
        "        return {'image': image, 'keypoints': key_pts}"
      ],
      "execution_count": 0,
      "outputs": []
    },
    {
      "cell_type": "markdown",
      "metadata": {
        "id": "Q5iH1ZJVZKZc",
        "colab_type": "text"
      },
      "source": [
        "**Face Cropping**"
      ]
    },
    {
      "cell_type": "code",
      "metadata": {
        "id": "ObzvWWIuZH7o",
        "colab_type": "code",
        "colab": {}
      },
      "source": [
        "class FaceCrop(object):\n",
        "    \"\"\" Crop out face using the keypoints as reference\n",
        "    Args:\n",
        "        output_size (tuple or int): Desired output size. If int, square crop\n",
        "            is made.\n",
        "    \"\"\"       \n",
        "        \n",
        "    def __call__(self, sample):\n",
        "        image, key_pts = sample['image'], sample['keypoints']\n",
        "\n",
        "        image_copy = np.copy(image)\n",
        "        \n",
        "        h, w = image.shape[:2]\n",
        "        \n",
        "        x_max = 0\n",
        "        x_min = 10000\n",
        "        y_max = 0\n",
        "        y_min = 10000\n",
        "        \n",
        "        # Find the coordinates to keypoints at the far left, far right, top and bottom\n",
        "        # Also check that no keypoints are outside the image\n",
        "        for coord in key_pts:\n",
        "            if coord[0] > x_max:\n",
        "                if coord[0] >= w:\n",
        "                    x_max = w\n",
        "                else:\n",
        "                    x_max = coord[0]\n",
        "            if coord[0] < x_min:\n",
        "                if coord[0] < 0:\n",
        "                    x_min = 0\n",
        "                else:\n",
        "                    x_min = coord[0]\n",
        "            if coord[1] > y_max:\n",
        "                if coord[1] >= h:\n",
        "                    y_max = h\n",
        "                else:\n",
        "                    y_max = coord[1]\n",
        "            if coord[1] < y_min:\n",
        "                if coord[1] < 0:\n",
        "                    y_min = 0\n",
        "                else:\n",
        "                    y_min = coord[1]\n",
        "        \n",
        "        # Set the the left corner keypoint as out crop cooridnate\n",
        "        x = int(x_min)\n",
        "        y = int(y_min)\n",
        "        \n",
        "        # Get height and width of keypoint area\n",
        "        new_h = int(y_max - y_min)\n",
        "        new_w = int(x_max - x_min)\n",
        "        \n",
        "        #Set the smallest side equal to the largest since we want a square\n",
        "        if new_h > new_w:\n",
        "            new_w = new_h\n",
        "        else:\n",
        "            new_h = new_w       \n",
        "        \n",
        "        randsize1 = [2, 70]\n",
        "        randsize2 = [2, 30]\n",
        "        randsize3 = [1, 10]\n",
        "\n",
        "        # Check that padding dosent go outside the frame\n",
        "        padding_x_1 = 0\n",
        "        padding_x_2 = 0\n",
        "        padding_y_1 = 0\n",
        "        padding_y_2 = 0\n",
        "        \n",
        "        padding_size_x_1 = random.randint(randsize1[0],randsize1[1])\n",
        "        padding_size_x_2 = random.randint(randsize1[0],randsize1[1])\n",
        "        padding_size_y_1 = random.randint(randsize1[0],randsize1[1])\n",
        "        padding_size_y_2 = random.randint(randsize1[0],randsize1[1])\n",
        "        if(y - padding_size_y_1 > 0 and x - padding_size_x_1 > 0\n",
        "           and x + new_w + padding_size_x_2 < w and y + new_h + padding_size_y_2 < h):\n",
        "            padding_x_1 = padding_size_x_1\n",
        "            padding_x_2 = padding_size_x_2\n",
        "            padding_y_1 = padding_size_y_1\n",
        "            padding_y_2 = padding_size_y_2\n",
        "        else:\n",
        "            padding_size_x_1 = random.randint(randsize2[0],randsize2[1])\n",
        "            padding_size_x_2 = random.randint(randsize2[0],randsize2[1])\n",
        "            padding_size_y_1 = random.randint(randsize2[0],randsize2[1])\n",
        "            padding_size_y_2 = random.randint(randsize2[0],randsize2[1])\n",
        "         \n",
        "            if(y - padding_size_y_1 > 0 and x - padding_size_x_1 > 0\n",
        "               and x + new_w + padding_size_x_2 < w and y + new_h + padding_size_y_2 < h):\n",
        "                padding_x_1 = padding_size_x_1\n",
        "                padding_x_2 = padding_size_x_2\n",
        "                padding_y_1 = padding_size_y_1\n",
        "                padding_y_2 = padding_size_y_2\n",
        "                \n",
        "            else:\n",
        "                padding_size_x_1 = random.randint(randsize3[0],randsize3[1])\n",
        "                padding_size_x_2 = random.randint(randsize3[0],randsize3[1])\n",
        "                padding_size_y_1 = random.randint(randsize3[0],randsize3[1])\n",
        "                padding_size_y_2 = random.randint(randsize3[0],randsize3[1])\n",
        "         \n",
        "                if(y - padding_size_y_1 > 0 and x - padding_size_x_1 > 0\n",
        "                   and x + new_w + padding_size_x_2 < w and y + new_h + padding_size_y_2 < h):\n",
        "                    padding_x_1 = padding_size_x_1\n",
        "                    padding_x_2 = padding_size_x_2\n",
        "                    padding_y_1 = padding_size_y_1\n",
        "                    padding_y_2 = padding_size_y_2 \n",
        "        \n",
        "        \n",
        "        image_copy = image_copy[y - padding_y_1: y + new_h + padding_y_2, x - padding_x_1: x + new_w + padding_x_2]     \n",
        "\n",
        "        if key_pts.shape[1] == 3:\n",
        "            key_pts = key_pts - [x - padding_x_1, y - padding_y_1, 0] \n",
        "        else:\n",
        "            key_pts = key_pts - [x - padding_x_1, y - padding_y_1] \n",
        "\n",
        "        return {'image': image_copy, 'keypoints': key_pts}"
      ],
      "execution_count": 0,
      "outputs": []
    },
    {
      "cell_type": "markdown",
      "metadata": {
        "id": "YveKioq5ZZ1C",
        "colab_type": "text"
      },
      "source": [
        "**Face Cropping Tight**"
      ]
    },
    {
      "cell_type": "code",
      "metadata": {
        "id": "KAPMto1YZYH-",
        "colab_type": "code",
        "colab": {}
      },
      "source": [
        "class FaceCropTight(object):\n",
        "    \"\"\" Crop out face using the keypoints as reference\n",
        "    Args:\n",
        "        output_size (tuple or int): Desired output size. If int, square crop\n",
        "            is made.\n",
        "    \"\"\"       \n",
        "        \n",
        "    def __call__(self, sample):\n",
        "        image, key_pts = sample['image'], sample['keypoints']\n",
        "\n",
        "        image_copy = np.copy(image)\n",
        "        \n",
        "        h, w = image.shape[:2]\n",
        "        \n",
        "        x_max = 0\n",
        "        x_min = 10000\n",
        "        y_max = 0\n",
        "        y_min = 10000\n",
        "        \n",
        "        # Find the coordinates to keypoints at the far left, far right, top and bottom\n",
        "        # Also check that no keypoints are outside the image\n",
        "        for coord in key_pts:\n",
        "            if coord[0] > x_max:\n",
        "                if coord[0] >= w:\n",
        "                    x_max = w\n",
        "                else:\n",
        "                    x_max = coord[0]\n",
        "            if coord[0] < x_min:\n",
        "                if coord[0] < 0:\n",
        "                    x_min = 0\n",
        "                else:\n",
        "                    x_min = coord[0]\n",
        "            if coord[1] > y_max:\n",
        "                if coord[1] >= h:\n",
        "                    y_max = h\n",
        "                else:\n",
        "                    y_max = coord[1]\n",
        "            if coord[1] < y_min:\n",
        "                if coord[1] < 0:\n",
        "                    y_min = 0\n",
        "                else:\n",
        "                    y_min = coord[1]\n",
        "        \n",
        "        # Set the the left corner keypoint as out crop cooridnate\n",
        "        x = int(x_min)\n",
        "        y = int(y_min)\n",
        "        \n",
        "        # Get height and width of keypoint area\n",
        "        new_h = int(y_max - y_min)\n",
        "        new_w = int(x_max - x_min)\n",
        "        \n",
        "        #Set the smallest side equal to the largest since we want a square\n",
        "        if new_h > new_w:\n",
        "            new_w = new_h\n",
        "        else:\n",
        "            new_h = new_w       \n",
        "        \n",
        "        randsize1 = [5, 10]\n",
        "\n",
        "        # Check that padding dosent go outside the frame\n",
        "        padding_x_1 = 0\n",
        "        padding_x_2 = 0\n",
        "        padding_y_1 = 0\n",
        "        padding_y_2 = 0\n",
        "        \n",
        "        padding_size_x_1 = random.randint(randsize1[0],randsize1[1])\n",
        "        padding_size_x_2 = random.randint(randsize1[0],randsize1[1])\n",
        "        padding_size_y_1 = random.randint(randsize1[0],randsize1[1])\n",
        "        padding_size_y_2 = random.randint(randsize1[0],randsize1[1])\n",
        "        \n",
        "        if(y - padding_size_y_1 > 0 and x - padding_size_x_1 > 0\n",
        "           and x + new_w + padding_size_x_2 < w and y + new_h + padding_size_y_2 < h):\n",
        "            padding_x_1 = padding_size_x_1\n",
        "            padding_x_2 = padding_size_x_2\n",
        "            padding_y_1 = padding_size_y_1\n",
        "            padding_y_2 = padding_size_y_2\n",
        "                 \n",
        "        image_copy = image_copy[y - padding_y_1: y + new_h + padding_y_2, x - padding_x_1: x + new_w + padding_x_2]     \n",
        "        \n",
        "        if key_pts.shape[1] == 3:\n",
        "            key_pts = key_pts - [x - padding_x_1, y - padding_y_1, 0] \n",
        "        else:\n",
        "            key_pts = key_pts - [x - padding_x_1, y - padding_y_1] \n",
        "        \n",
        "        return {'image': image_copy, 'keypoints': key_pts}"
      ],
      "execution_count": 0,
      "outputs": []
    },
    {
      "cell_type": "markdown",
      "metadata": {
        "id": "qHNU4orScCQP",
        "colab_type": "text"
      },
      "source": [
        "### Flipping"
      ]
    },
    {
      "cell_type": "markdown",
      "metadata": {
        "id": "dBkG3MwaZjaI",
        "colab_type": "text"
      },
      "source": [
        "**Random 90 flipping**"
      ]
    },
    {
      "cell_type": "code",
      "metadata": {
        "id": "kOizpqZ7ZtRW",
        "colab_type": "code",
        "colab": {}
      },
      "source": [
        "class Random90DegFlip(object):\n",
        "    \"\"\"Random 90 degree flip of image in sample\"\"\"\n",
        "    def __call__(self, sample):\n",
        "        image, key_pts = sample['image'], sample['keypoints']\n",
        "        \n",
        "        image_copy = np.copy(image)\n",
        "        key_pts_copy = np.copy(key_pts)\n",
        "\n",
        "        if random.choice([0, 1]) < .25:\n",
        "            image_copy = np.rot90(image_copy,1)\n",
        "            image_copy = np.flipud(image_copy)\n",
        "            key_pts_copy = np.fliplr(key_pts_copy)\n",
        "            \n",
        "\n",
        "        return {'image': image_copy, 'keypoints': key_pts_copy}"
      ],
      "execution_count": 0,
      "outputs": []
    },
    {
      "cell_type": "markdown",
      "metadata": {
        "id": "_6CVykOLauGt",
        "colab_type": "text"
      },
      "source": [
        "**Random horizontal flipping**"
      ]
    },
    {
      "cell_type": "code",
      "metadata": {
        "id": "B9VKSw9BasiH",
        "colab_type": "code",
        "colab": {}
      },
      "source": [
        "class RandomHorizontalFlip(object):\n",
        "    \"\"\"Random horizontal flip of image in sample\"\"\"\n",
        "    def __call__(self, sample):\n",
        "        image, key_pts = sample['image'], sample['keypoints']\n",
        "        \n",
        "        image_copy = np.copy(image)\n",
        "        key_pts_copy = np.copy(key_pts)\n",
        "        key_pts_copy_2 = np.copy(key_pts_copy)\n",
        "\n",
        "        if random.choice([0, 1]) <= 0.5:\n",
        "            # horizontally flip image\n",
        "            image_copy = np.fliplr(image_copy)          \n",
        "            # keypoints (x,y) = (-x,y)\n",
        "            key_pts_copy[:,0] = -key_pts_copy[:, 0]\n",
        "            # move keypoints form 2 kvadrant to 1 kvadrant\n",
        "            key_pts_copy[:,0] = key_pts_copy[:, 0] + image_copy.shape[1]\n",
        "\n",
        "            # since the keypoints are fliped around the y axis\n",
        "            # their placment are wrong int the keypoint array.\n",
        "            # E.g. the right eye and left eye is in the wrong place,\n",
        "            # so the keypoints need to be correctly mirrord in the list\n",
        "            \n",
        "            key_pts_copy_2 = np.copy(key_pts_copy)\n",
        "            \n",
        "            # mirror jawline \n",
        "            key_pts_copy_2[16] = key_pts_copy[0]\n",
        "            key_pts_copy_2[15] = key_pts_copy[1]\n",
        "            key_pts_copy_2[14] = key_pts_copy[2]\n",
        "            key_pts_copy_2[13] = key_pts_copy[3]\n",
        "            key_pts_copy_2[12] = key_pts_copy[4]\n",
        "            key_pts_copy_2[11] = key_pts_copy[5]\n",
        "            key_pts_copy_2[10] = key_pts_copy[6]\n",
        "            key_pts_copy_2[9]  = key_pts_copy[7]\n",
        "            key_pts_copy_2[8]  = key_pts_copy[8]\n",
        "            key_pts_copy_2[7] = key_pts_copy[9] \n",
        "            key_pts_copy_2[6] = key_pts_copy[10] \n",
        "            key_pts_copy_2[5] = key_pts_copy[11]\n",
        "            key_pts_copy_2[4] = key_pts_copy[12]\n",
        "            key_pts_copy_2[3] = key_pts_copy[13]\n",
        "            key_pts_copy_2[2] = key_pts_copy[14]\n",
        "            key_pts_copy_2[1] = key_pts_copy[15]\n",
        "            key_pts_copy_2[0]  = key_pts_copy[16]\n",
        "            \n",
        "            # mirror eyebrowns\n",
        "            key_pts_copy_2[26] = key_pts_copy[17] \n",
        "            key_pts_copy_2[25] = key_pts_copy[18] \n",
        "            key_pts_copy_2[24] = key_pts_copy[19]\n",
        "            key_pts_copy_2[23] = key_pts_copy[20]\n",
        "            key_pts_copy_2[22] = key_pts_copy[21]\n",
        "            key_pts_copy_2[21] = key_pts_copy[22]\n",
        "            key_pts_copy_2[20] = key_pts_copy[23]\n",
        "            key_pts_copy_2[19] = key_pts_copy[24]\n",
        "            key_pts_copy_2[18] = key_pts_copy[25] \n",
        "            key_pts_copy_2[17] = key_pts_copy[26]\n",
        "            \n",
        "            # mirror nose tip\n",
        "            key_pts_copy_2[35] = key_pts_copy[31] \n",
        "            key_pts_copy_2[34] = key_pts_copy[32] \n",
        "            key_pts_copy_2[33] = key_pts_copy[33]\n",
        "            key_pts_copy_2[32] = key_pts_copy[34]\n",
        "            key_pts_copy_2[31] = key_pts_copy[35]\n",
        "            \n",
        "            # mirror eyes\n",
        "            key_pts_copy_2[45] = key_pts_copy[36]\n",
        "            key_pts_copy_2[44] = key_pts_copy[37] \n",
        "            key_pts_copy_2[43] = key_pts_copy[38]\n",
        "            key_pts_copy_2[42] = key_pts_copy[39]\n",
        "            key_pts_copy_2[47] = key_pts_copy[40]\n",
        "            key_pts_copy_2[46] = key_pts_copy[41] \n",
        "            key_pts_copy_2[39] = key_pts_copy[42] \n",
        "            key_pts_copy_2[38] = key_pts_copy[43]\n",
        "            key_pts_copy_2[37] = key_pts_copy[44]\n",
        "            key_pts_copy_2[36] = key_pts_copy[45]\n",
        "            key_pts_copy_2[41] = key_pts_copy[46] \n",
        "            key_pts_copy_2[40] = key_pts_copy[47] \n",
        "   \n",
        "            # mirror lips\n",
        "            key_pts_copy_2[54] = key_pts_copy[48]\n",
        "            key_pts_copy_2[53] = key_pts_copy[49] \n",
        "            key_pts_copy_2[52] = key_pts_copy[50]\n",
        "            key_pts_copy_2[51] = key_pts_copy[51]\n",
        "            key_pts_copy_2[50] = key_pts_copy[52]\n",
        "            key_pts_copy_2[49] = key_pts_copy[53] \n",
        "            key_pts_copy_2[48] = key_pts_copy[54]\n",
        "            \n",
        "            key_pts_copy_2[59] = key_pts_copy[55]\n",
        "            key_pts_copy_2[58] = key_pts_copy[56]\n",
        "            key_pts_copy_2[57] = key_pts_copy[57]\n",
        "            key_pts_copy_2[56] = key_pts_copy[58] \n",
        "            key_pts_copy_2[55] = key_pts_copy[59]\n",
        "            \n",
        "            key_pts_copy_2[64] = key_pts_copy[60]\n",
        "            key_pts_copy_2[63] = key_pts_copy[61] \n",
        "            key_pts_copy_2[62] = key_pts_copy[62]\n",
        "            key_pts_copy_2[61] = key_pts_copy[63]\n",
        "            key_pts_copy_2[60] = key_pts_copy[64]\n",
        "                 \n",
        "            key_pts_copy_2[67] = key_pts_copy[65] \n",
        "            key_pts_copy_2[66] = key_pts_copy[66] \n",
        "            key_pts_copy_2[65] = key_pts_copy[67]\n",
        "\n",
        "            \n",
        "        return {'image': image_copy, 'keypoints': key_pts_copy_2}"
      ],
      "execution_count": 0,
      "outputs": []
    },
    {
      "cell_type": "markdown",
      "metadata": {
        "id": "CFnEk7ITccxc",
        "colab_type": "text"
      },
      "source": [
        "### Rotate"
      ]
    },
    {
      "cell_type": "markdown",
      "metadata": {
        "id": "zAv_4uGpbKRN",
        "colab_type": "text"
      },
      "source": [
        "**Rotate**"
      ]
    },
    {
      "cell_type": "code",
      "metadata": {
        "id": "HNraKgLNbB_e",
        "colab_type": "code",
        "colab": {}
      },
      "source": [
        "class Rotate(object):\n",
        "    \"\"\"Rotate image in sample by an angle\"\"\"\n",
        "    \n",
        "    def __init__(self, rotation):\n",
        "        self.rotation = rotation\n",
        "    \n",
        "    def __call__(self, sample):\n",
        "        image, key_pts = sample['image'], sample['keypoints']\n",
        "        \n",
        "        image_copy = np.copy(image)\n",
        "        key_pts_copy = np.copy(key_pts)\n",
        "        \n",
        "        rows = image.shape[0]\n",
        "        cols = image.shape[1]\n",
        "        \n",
        "        M = cv2.getRotationMatrix2D((rows/2,cols/2),90,1)\n",
        "        image_copy = cv2.warpAffine(image_copy,M,(cols,rows))\n",
        "                \n",
        "        \n",
        "        key_pts_copy = key_pts_copy.reshape((1,136))\n",
        "        new_keypoints = np.zeros(136)\n",
        "        \n",
        "        for i in range(68):\n",
        "            coord_idx = 2*i\n",
        "            old_coord = key_pts_copy[0][coord_idx:coord_idx+2]\n",
        "            new_coord = np.matmul(M,np.append(old_coord,1))\n",
        "            new_keypoints[coord_idx] += new_coord[0]\n",
        "            new_keypoints[coord_idx+1] += new_coord[1]\n",
        "        \n",
        "        new_keypoints = new_keypoints.reshape((68,2))\n",
        "        \n",
        "        return {'image': image_copy, 'keypoints': new_keypoints}"
      ],
      "execution_count": 0,
      "outputs": []
    },
    {
      "cell_type": "markdown",
      "metadata": {
        "id": "AsuzLQdJbdX5",
        "colab_type": "text"
      },
      "source": [
        "**Random Rotate**"
      ]
    },
    {
      "cell_type": "code",
      "metadata": {
        "id": "Bp_I4BeXbcXt",
        "colab_type": "code",
        "colab": {}
      },
      "source": [
        "class RandomRotate(object):\n",
        "    \"\"\"Rotate image in sample by an angle\"\"\"\n",
        "    \n",
        "    def __init__(self, rotation=30):\n",
        "        self.rotation = rotation\n",
        "    \n",
        "    def __call__(self, sample):\n",
        "        image, key_pts = sample['image'], sample['keypoints']\n",
        "        \n",
        "        image_copy = np.copy(image)\n",
        "        key_pts_copy = np.copy(key_pts)\n",
        "\n",
        "        factor = key_pts.shape[1]\n",
        "        \n",
        "        rows = image.shape[0]\n",
        "        cols = image.shape[1]\n",
        "        \n",
        "        M = cv2.getRotationMatrix2D((rows/2,cols/2),random.choice([-self.rotation, self.rotation]),1)\n",
        "        image_copy = cv2.warpAffine(image_copy,M,(cols,rows))\n",
        "                \n",
        "        \n",
        "        key_pts_copy = key_pts_copy.reshape((1,-1))\n",
        "        new_keypoints = np.zeros(key_pts_copy.shape[1])\n",
        "        \n",
        "        for i in range(68):\n",
        "            coord_idx = factor*i\n",
        "            old_coord = key_pts_copy[0][coord_idx:coord_idx+2]\n",
        "            new_coord = np.matmul(M,np.append(old_coord,1))\n",
        "            new_keypoints[coord_idx] += new_coord[0]\n",
        "            new_keypoints[coord_idx+1] += new_coord[1]\n",
        "        \n",
        "        new_keypoints = new_keypoints.reshape((68,-1))\n",
        "        \n",
        "        return {'image': image_copy, 'keypoints': new_keypoints}"
      ],
      "execution_count": 0,
      "outputs": []
    },
    {
      "cell_type": "markdown",
      "metadata": {
        "id": "bTz9i3bZchr_",
        "colab_type": "text"
      },
      "source": [
        "### Other"
      ]
    },
    {
      "cell_type": "markdown",
      "metadata": {
        "id": "NIfmsEZgc674",
        "colab_type": "text"
      },
      "source": [
        "**ColorJitter**"
      ]
    },
    {
      "cell_type": "code",
      "metadata": {
        "id": "8usVAO2OacoF",
        "colab_type": "code",
        "colab": {}
      },
      "source": [
        "class ColorJitter(object):\n",
        "    \"\"\"ColorJitter image in sample\"\"\"\n",
        "    def __call__(self, sample):\n",
        "        image, key_pts = sample['image'], sample['keypoints']\n",
        "        \n",
        "        color_jitter = transforms.ColorJitter(\n",
        "            brightness=0.4,\n",
        "            contrast=0.4,\n",
        "            saturation=0.4,)\n",
        "        \n",
        "        image_copy = np.copy(image)\n",
        "        \n",
        "        key_pts_copy = np.copy(key_pts)\n",
        "\n",
        "        image_copy = color_jitter(Image.fromarray(image_copy)) \n",
        "       \n",
        "        image_copy = np.array(image_copy)\n",
        "        \n",
        "        return {'image': image_copy, 'keypoints': key_pts_copy}\n",
        "    "
      ],
      "execution_count": 0,
      "outputs": []
    },
    {
      "cell_type": "markdown",
      "metadata": {
        "id": "ZxzsovGfdGa2",
        "colab_type": "text"
      },
      "source": [
        "**Random Gamma**"
      ]
    },
    {
      "cell_type": "code",
      "metadata": {
        "id": "_fbBSs_1dBms",
        "colab_type": "code",
        "colab": {}
      },
      "source": [
        "# helper\n",
        "def adjust_gamma(image, gamma=1.0):# build a lookup table mapping the pixel values [0, 255] to \n",
        "    # their adjusted gamma values\n",
        "    invGamma = 1.0 / gamma\n",
        "    table = np.array([((i / 255.0) ** invGamma) * 255\n",
        "    for i in np.arange(0, 256)]).astype(\"uint8\")\n",
        " \n",
        "    # apply gamma correction using the lookup table\n",
        "    return cv2.LUT(image, table)\n",
        "    \n",
        "class RandomGamma(object):\n",
        "    \"\"\"Random gamma of image in sample\"\"\"\n",
        "    def __call__(self, sample):\n",
        "        image, key_pts = sample['image'], sample['keypoints']\n",
        "        \n",
        "        image_copy = np.copy(image)\n",
        "        key_pts_copy = np.copy(key_pts)\n",
        "\n",
        "        image_copy = adjust_gamma(image_copy, gamma=random.uniform(0.8, 1.1)) \n",
        "        \n",
        "        return {'image': image_copy, 'keypoints': key_pts_copy}"
      ],
      "execution_count": 0,
      "outputs": []
    },
    {
      "cell_type": "markdown",
      "metadata": {
        "id": "M1iIMJCwdg_H",
        "colab_type": "text"
      },
      "source": [
        "## Data Loader"
      ]
    },
    {
      "cell_type": "code",
      "metadata": {
        "id": "Rjlrv1Ph0aA1",
        "colab_type": "code",
        "colab": {}
      },
      "source": [
        "class Mode(Enum):\n",
        "    \n",
        "    bBox = \"boundingBox\"\n",
        "    lm3d = \"landmarks3D\"\n",
        "    lm2d = \"landmarks2D\"\n",
        "    cimage = \"colorImages\""
      ],
      "execution_count": 0,
      "outputs": []
    },
    {
      "cell_type": "code",
      "metadata": {
        "id": "kOQiN1FYdgKC",
        "colab_type": "code",
        "colab": {}
      },
      "source": [
        "class FacialKeypointsDataset(Dataset):\n",
        "    \"\"\"Face Landmarks dataset.\"\"\"\n",
        "    \n",
        "    def __init__(self, files, start_batch=0, batch_size=0, mode=Mode.lm2d,transform=None):\n",
        "       \n",
        "\n",
        "        self.files = files\n",
        "        self.start_batch = start_batch\n",
        "        self.batch_size = batch_size\n",
        "        self.mode = mode\n",
        "        self.transform = transform\n",
        "\n",
        "    def __len__(self):\n",
        "\n",
        "        return len(self.files)\n",
        "\n",
        "    def __getitem__(self, idx):\n",
        "        if idx < self.start_batch * self.batch_size:\n",
        "            return {'image': np.array([]), 'keypoints': np.array([])}\n",
        "        \n",
        "        self.start_batch = 0\n",
        "        file, index = self.files[idx]\n",
        "        data = np.load(file)\n",
        "        pred = data[self.mode.value][:,:,index]\n",
        "\n",
        "        image = data[Mode.cimage.value][:,:,:,index]\n",
        "\n",
        "       \n",
        "        \n",
        "        # if image has an alpha color channel, get rid of it\n",
        "        if(image.shape[2] == 4):\n",
        "            image = image[:,:,0:3]\n",
        "        \n",
        "      \n",
        "        sample = {'image': image, 'keypoints': pred}\n",
        "\n",
        "        if self.transform:\n",
        "            sample = self.transform(sample)\n",
        "        # keypoints = sample['keypoints']\n",
        "        # keypoints = keypoints.view(-1)\n",
        "        # sample['keypoints'] = keypoints \n",
        "\n",
        "        return sample\n",
        "\n",
        "    "
      ],
      "execution_count": 0,
      "outputs": []
    },
    {
      "cell_type": "markdown",
      "metadata": {
        "id": "iOTZdruYgCZ8",
        "colab_type": "text"
      },
      "source": [
        "## Data Creator"
      ]
    },
    {
      "cell_type": "code",
      "metadata": {
        "id": "d4Lu_lRYsfPV",
        "colab_type": "code",
        "colab": {}
      },
      "source": [
        "\"\"\"Utils\"\"\"\n",
        "files = []\n",
        "\n",
        "def dfs_files(path):\n",
        "    global files \n",
        "    if path[-4] == \".\":\n",
        "        if path[-4::] == \".npz\":\n",
        "            files.append(path)\n",
        "        return \n",
        "    for p in os.listdir(path):\n",
        "        dfs_files(os.path.join(path, p))\n",
        "    return files    \n",
        "\n",
        "def files_of_files(files):\n",
        "    ff = []\n",
        "    for i, f in enumerate(files):\n",
        "        print(\"\\rfinished {} %\".format(int(((i+1)/len(files))*100)),end='')\n",
        "        data = np.load(f)\n",
        "\n",
        "        length = data[\"colorImages\"].shape[-1]\n",
        "        [ff.append([f, i]) for i in range(length)]\n",
        "    return ff"
      ],
      "execution_count": 0,
      "outputs": []
    },
    {
      "cell_type": "code",
      "metadata": {
        "id": "4hSQcR5xxH07",
        "colab_type": "code",
        "colab": {}
      },
      "source": [
        "# global files\n",
        "# files = []\n",
        "# dfs_files(\"/content/drive/My Drive/data\")\n",
        "# data = files_of_files(files)"
      ],
      "execution_count": 0,
      "outputs": []
    },
    {
      "cell_type": "code",
      "metadata": {
        "id": "1R0d0TqY0OVF",
        "colab_type": "code",
        "colab": {}
      },
      "source": [
        "# torch.save({\"files\":data},\"/content/drive/My Drive/data/files.pth\")"
      ],
      "execution_count": 0,
      "outputs": []
    },
    {
      "cell_type": "code",
      "metadata": {
        "id": "cszIkLMcgBcd",
        "colab_type": "code",
        "colab": {}
      },
      "source": [
        "def create_datasets(data_dir ,batch_size, start_batch, img_size, mode, valid_size = 0.1, test_size = 0.1, color=True):\n",
        "\n",
        "    data = torch.load(os.path.join(data_dir,\"files.pth\"))['files']\n",
        "    n_samples = len(data)\n",
        "    \n",
        "    np.random.seed(1)\n",
        "    np.random.shuffle(data)\n",
        "\n",
        "    valid_split = int(np.floor(valid_size * n_samples))\n",
        "    test_split = int(np.floor(test_size * n_samples))\n",
        "\n",
        "    valid_data = data[:valid_split]\n",
        "    test_data = data[valid_split:valid_split+test_split]\n",
        "    train_data = data[valid_split+test_split:]\n",
        "\n",
        "    print(f\"\\nTrain set: {len(train_data)} image\")\n",
        "    print(f\"Valid set: {len(valid_data)} image\")\n",
        "    print(f\"Test set: {len(test_data)} image\")\n",
        "\n",
        "\n",
        "    train_transform = transforms.Compose([\n",
        "                                        #   RandomRotate(5),\n",
        "                                          RandomHorizontalFlip(),\n",
        "                                          ColorJitter(),\n",
        "                                          FaceCrop(),\n",
        "                                          Rescale((img_size, img_size)),\n",
        "                                          Normalize(color),\n",
        "                                          ToTensor(),\n",
        "                                          ])\n",
        "    \n",
        "    valid_transform = transforms.Compose([\n",
        "                                          FaceCropTight(),\n",
        "                                          Rescale((img_size,img_size)),\n",
        "                                          Normalize(color),\n",
        "                                          ToTensor()\n",
        "                                          ])\n",
        "    \n",
        "    test_transform = transforms.Compose([\n",
        "                                         FaceCropTight(),\n",
        "                                          Rescale((img_size,img_size)),\n",
        "                                          Normalize(color),\n",
        "                                          ToTensor()\n",
        "                                          ])\n",
        "\n",
        "    test_dataset = FacialKeypointsDataset(test_data,\n",
        "                                          mode=mode,\n",
        "                                          transform=test_transform)\n",
        "\n",
        "    valid_dataset = FacialKeypointsDataset(valid_data,\n",
        "                                           mode=mode,\n",
        "                                           transform=valid_transform)\n",
        " \n",
        "    train_dataset = FacialKeypointsDataset(train_data,\n",
        "                                           start_batch,\n",
        "                                           batch_size,\n",
        "                                           mode=mode,\n",
        "                                           transform=train_transform)\n",
        "    \n",
        "    train_loader = DataLoader(train_dataset, batch_size=batch_size)\n",
        "    test_loader = DataLoader(test_dataset, batch_size=batch_size)\n",
        "    valid_loader = DataLoader(valid_dataset, batch_size=batch_size)\n",
        "    \n",
        "    return train_loader, valid_loader, test_loader"
      ],
      "execution_count": 0,
      "outputs": []
    },
    {
      "cell_type": "markdown",
      "metadata": {
        "id": "uzs_11oof-vk",
        "colab_type": "text"
      },
      "source": [
        "## Data samples"
      ]
    },
    {
      "cell_type": "code",
      "metadata": {
        "id": "D2SRdNeRgOO6",
        "colab_type": "code",
        "colab": {}
      },
      "source": [
        "def sample_output(data_loader, net=None):\n",
        "    if net is not None:\n",
        "        net.eval()\n",
        "        net.to('cpu')\n",
        "    \n",
        "    for i, data in enumerate(data_loader):\n",
        "        images = data['image']\n",
        "        key_pts = data['keypoints']\n",
        "\n",
        "        output_pts = None\n",
        "        if net is not None:\n",
        "            # print(images.shape)\n",
        "            output_pts = net(images.float())\n",
        "            # print(output_pts.shape)\n",
        "            # if output.shape:\n",
        "            \n",
        "            # output_pts = output_pts.view(output_pts.size()[0], 68, -1) #this line for 2d model\n",
        "\n",
        "        \n",
        "        if i == 0:\n",
        "            return images, output_pts, key_pts"
      ],
      "execution_count": 0,
      "outputs": []
    },
    {
      "cell_type": "markdown",
      "metadata": {
        "id": "MUZqSKmzfvDr",
        "colab_type": "text"
      },
      "source": [
        "## Displayers"
      ]
    },
    {
      "cell_type": "markdown",
      "metadata": {
        "id": "ATPYhTEe0nTa",
        "colab_type": "text"
      },
      "source": [
        "**2D Facial LandMarks**"
      ]
    },
    {
      "cell_type": "code",
      "metadata": {
        "id": "-AWfTO3AaDdE",
        "colab_type": "code",
        "colab": {}
      },
      "source": [
        "# !mkdir \"/content/drive/My Drive/images\""
      ],
      "execution_count": 0,
      "outputs": []
    },
    {
      "cell_type": "code",
      "metadata": {
        "id": "qRhf4afFfuww",
        "colab_type": "code",
        "colab": {}
      },
      "source": [
        "def show_all_keypoints(image, pred_key_pts=None, gt_key_pts=None):\n",
        "    image = np.moveaxis(image, 0, -1)\n",
        "\n",
        "    plt.imshow(image)\n",
        "    if pred_key_pts is not None:\n",
        "        plt.scatter(pred_key_pts[:, 0], pred_key_pts[:, 1], s=30, marker='.', c='r')\n",
        "  \n",
        "    if gt_key_pts is not None:\n",
        "        plt.scatter(gt_key_pts[:, 0], gt_key_pts[:, 1], s=30, marker='.', c='lightgreen')"
      ],
      "execution_count": 0,
      "outputs": []
    },
    {
      "cell_type": "code",
      "metadata": {
        "colab_type": "code",
        "id": "O5Qj3HIu-fii",
        "colab": {}
      },
      "source": [
        "def visualize_output(images, epoch, key_pts=None, gt_pts=None, batch_size=10):\n",
        "    plt.figure(figsize=(25,15))\n",
        "    for i in range(10):    \n",
        "        ax = plt.subplot(3, 5, i+1)\n",
        "\n",
        "        # de-transformacija slika\n",
        "        image = images[i].data   \n",
        "        image = image.numpy()   \n",
        "        # de-transformacija predvidjenih kljucnih tacaka\n",
        "        pred_key_pts = None\n",
        "        if key_pts is not None:\n",
        "            pred_key_pts = key_pts[i].data\n",
        "            pred_key_pts = pred_key_pts.numpy()\n",
        "            pred_key_pts = pred_key_pts*(image.shape[1]/4)+image.shape[1]/2\n",
        "\n",
        "\n",
        "        gt_key_pts = None\n",
        "        if gt_pts is not None:\n",
        "            gt_key_pts = gt_pts[i].data      \n",
        "            gt_key_pts = gt_key_pts*(image.shape[1]/4)+image.shape[1]/2\n",
        "        \n",
        "        show_all_keypoints(image, pred_key_pts, gt_key_pts)\n",
        "        plt.axis('off')\n",
        "    plt.savefig(f'/content/drive/My Drive/images/{epoch}.png')\n",
        "    plt.show()"
      ],
      "execution_count": 0,
      "outputs": []
    },
    {
      "cell_type": "code",
      "metadata": {
        "id": "ooQZikmJcmIw",
        "colab_type": "code",
        "colab": {}
      },
      "source": [
        "def plot_3d(num, arr1, arr2=None):\n",
        "    fig = plt.figure()\n",
        "    ax = fig.add_subplot(111, projection='3d')\n",
        "\n",
        "    face = list(range(1,17))\n",
        "    l_eyebrow = list(range(18,22))\n",
        "    r_eyebrow = list(range(23,27))\n",
        "    top_nose = list(range(28,31))\n",
        "    bottom_nose = list(range(32,36))\n",
        "    l_eye = list(range(37,42))\n",
        "    r_eye = list(range(43, 48))\n",
        "    lips_1 = list(range(49,55))\n",
        "    lips_2 = list(range(55,61))\n",
        "    lips_3 = list(range(61,65))\n",
        "    lips_4 = list(range(65,68))\n",
        "\n",
        "\n",
        "\n",
        "    if arr2 is not None:\n",
        "        arr2 = arr2.view(-1, 3).detach().numpy()\n",
        "\n",
        "        for i ,(x,y,z) in enumerate(arr2):\n",
        "            if i in face:\n",
        "                ax.scatter(px, py, pz, color='r')\n",
        "                ax.scatter(x, y, z, color='r')\n",
        "                ax.plot([x,px],[y,py],[z,pz], color='r')\n",
        "            if i in l_eyebrow:\n",
        "                ax.scatter(px, py, pz, color='r')\n",
        "                ax.scatter(x, y, z, color='r')\n",
        "                ax.plot([x,px],[y,py],[z,pz], color='r')\n",
        "            \n",
        "            if i in r_eyebrow:\n",
        "                ax.scatter(px, py, pz, color='r')\n",
        "                ax.scatter(x, y, z, color='r')\n",
        "                ax.plot([x,px],[y,py],[z,pz], color='r')\n",
        "\n",
        "            if i in top_nose:\n",
        "                ax.scatter(px, py, pz, color='r')\n",
        "                ax.scatter(x, y, z, color='r')\n",
        "                ax.plot([x,px],[y,py],[z,pz], color='r')\n",
        "            if i in bottom_nose:\n",
        "                ax.scatter(px, py, pz, color='r')\n",
        "                ax.scatter(x, y, z, color='r')\n",
        "                ax.plot([x,px],[y,py],[z,pz], color='r')\n",
        "                \n",
        "            if i in l_eye:\n",
        "                ax.scatter(px, py, pz, color='r')\n",
        "                ax.scatter(x, y, z, color='r')\n",
        "                ax.plot([x,px],[y,py],[z,pz], color='r')\n",
        "            if i in r_eye:\n",
        "                ax.scatter(px, py, pz, color='r')\n",
        "                ax.scatter(x, y, z, color='r')\n",
        "                ax.plot([x,px],[y,py],[z,pz], color='r')\n",
        "            if i in lips_1:\n",
        "                ax.scatter(px, py, pz, color='r')\n",
        "                ax.scatter(x, y, z, color='r')\n",
        "                ax.plot([x,px],[y,py],[z,pz], color='r')\n",
        "            if i in lips_2:\n",
        "                ax.scatter(px, py, pz, color='r')\n",
        "                ax.scatter(x, y, z, color='r')\n",
        "                ax.plot([x,px],[y,py],[z,pz], color='r')\n",
        "            if i in lips_3:\n",
        "                ax.scatter(px, py, pz, color='r')\n",
        "                ax.scatter(x, y, z, color='r')\n",
        "                ax.plot([x,px],[y,py],[z,pz], color='r')\n",
        "            if i in lips_4:\n",
        "                ax.scatter(px, py, pz, color='r')\n",
        "                ax.scatter(x, y, z, color='r')\n",
        "                ax.plot([x,px],[y,py],[z,pz], color='r')\n",
        "            px,py,pz = x,y,z\n",
        "\n",
        "\n",
        "    arr1 = arr1.view(-1, 3)\n",
        "    for i ,(x,y,z) in enumerate(arr1):\n",
        "        if i in face:\n",
        "            ax.scatter(px, py, pz, color='g')\n",
        "            ax.scatter(x, y, z, color='g')\n",
        "            ax.plot([x,px],[y,py],[z,pz], color='g')\n",
        "        if i in l_eyebrow:\n",
        "            ax.scatter(px, py, pz, color='g')\n",
        "            ax.scatter(x, y, z, color='g')\n",
        "            ax.plot([x,px],[y,py],[z,pz], color='g')\n",
        "        \n",
        "        if i in r_eyebrow:\n",
        "            ax.scatter(px, py, pz, color='g')\n",
        "            ax.scatter(x, y, z, color='g')\n",
        "            ax.plot([x,px],[y,py],[z,pz], color='g')\n",
        "\n",
        "        if i in top_nose:\n",
        "            ax.scatter(px, py, pz, color='g')\n",
        "            ax.scatter(x, y, z, color='g')\n",
        "            ax.plot([x,px],[y,py],[z,pz], color='g')\n",
        "        if i in bottom_nose:\n",
        "            ax.scatter(px, py, pz, color='g')\n",
        "            ax.scatter(x, y, z, color='g')\n",
        "            ax.plot([x,px],[y,py],[z,pz], color='g')\n",
        "            \n",
        "        if i in l_eye:\n",
        "            ax.scatter(px, py, pz, color='g')\n",
        "            ax.scatter(x, y, z, color='g')\n",
        "            ax.plot([x,px],[y,py],[z,pz], color='g')\n",
        "        if i in r_eye:\n",
        "            ax.scatter(px, py, pz, color='g')\n",
        "            ax.scatter(x, y, z, color='g')\n",
        "            ax.plot([x,px],[y,py],[z,pz], color='g')\n",
        "        if i in lips_1:\n",
        "            ax.scatter(px, py, pz, color='g')\n",
        "            ax.scatter(x, y, z, color='g')\n",
        "            ax.plot([x,px],[y,py],[z,pz], color='g')\n",
        "        if i in lips_2:\n",
        "            ax.scatter(px, py, pz, color='g')\n",
        "            ax.scatter(x, y, z, color='g')\n",
        "            ax.plot([x,px],[y,py],[z,pz], color='g')\n",
        "        if i in lips_3:\n",
        "            ax.scatter(px, py, pz, color='g')\n",
        "            ax.scatter(x, y, z, color='g')\n",
        "            ax.plot([x,px],[y,py],[z,pz], color='g')\n",
        "        if i in lips_4:\n",
        "            ax.scatter(px, py, pz, color='g')\n",
        "            ax.scatter(x, y, z, color='g')\n",
        "            ax.plot([x,px],[y,py],[z,pz], color='g')\n",
        "        px,py,pz = x,y,z\n",
        "    \n",
        "    \n",
        "    elev = 100\n",
        "    azim = 90\n",
        "    ax.view_init(elev, azim)\n",
        "\n",
        "\n",
        "    ax.set_xlabel('X Label')\n",
        "    ax.set_ylabel('Y Label')\n",
        "    ax.set_zlabel('Z Label')\n",
        "    plt.savefig('3dimage{}.png'.format(num))\n",
        "\n",
        "    plt.show()"
      ],
      "execution_count": 0,
      "outputs": []
    },
    {
      "cell_type": "markdown",
      "metadata": {
        "id": "6MvI29Nsf6QG",
        "colab_type": "text"
      },
      "source": [
        "### Graph"
      ]
    },
    {
      "cell_type": "code",
      "metadata": {
        "id": "t9FH6HXTf4wj",
        "colab_type": "code",
        "colab": {}
      },
      "source": [
        "def display_graph(train_losses, valid_losses):\n",
        "    plt.plot(train_losses, label='Training loss')\n",
        "    plt.plot(valid_losses, label='Validation loss')\n",
        "    plt.legend(frameon=False)"
      ],
      "execution_count": 0,
      "outputs": []
    },
    {
      "cell_type": "markdown",
      "metadata": {
        "id": "yigU3qY4BFY6",
        "colab_type": "text"
      },
      "source": [
        "# Models"
      ]
    },
    {
      "cell_type": "markdown",
      "metadata": {
        "id": "K-OsfMCjED4a",
        "colab_type": "text"
      },
      "source": [
        "## Utils"
      ]
    },
    {
      "cell_type": "code",
      "metadata": {
        "id": "hELUCWcBtvEk",
        "colab_type": "code",
        "colab": {}
      },
      "source": [
        "def conv3x3(in_planes, out_planes, strd=1, padding=1, bias=False):\n",
        "    \"3x3 convolution with padding\"\n",
        "    return nn.Conv2d(in_planes, out_planes, kernel_size=3,\n",
        "                     stride=strd, padding=padding, bias=bias)"
      ],
      "execution_count": 0,
      "outputs": []
    },
    {
      "cell_type": "code",
      "metadata": {
        "id": "ZrcGrqMUt0p8",
        "colab_type": "code",
        "colab": {}
      },
      "source": [
        "class ConvBlock(nn.Module):\n",
        "    def __init__(self, in_planes, out_planes):\n",
        "        super(ConvBlock, self).__init__()\n",
        "        self.bn1 = nn.BatchNorm2d(in_planes)\n",
        "        self.conv1 = conv3x3(in_planes, int(out_planes / 2))\n",
        "        self.bn2 = nn.BatchNorm2d(int(out_planes / 2))\n",
        "        self.conv2 = conv3x3(int(out_planes / 2), int(out_planes / 4))\n",
        "        self.bn3 = nn.BatchNorm2d(int(out_planes / 4))\n",
        "        self.conv3 = conv3x3(int(out_planes / 4), int(out_planes / 4))\n",
        "\n",
        "        if in_planes != out_planes:\n",
        "            self.downsample = nn.Sequential(\n",
        "                nn.BatchNorm2d(in_planes),\n",
        "                nn.ReLU(True),\n",
        "                nn.Conv2d(in_planes, out_planes,\n",
        "                          kernel_size=1, stride=1, bias=False),\n",
        "            )\n",
        "        else:\n",
        "            self.downsample = None\n",
        "\n",
        "    def forward(self, x):\n",
        "        residual = x\n",
        "\n",
        "        out1 = self.bn1(x)\n",
        "        out1 = F.relu(out1, True)\n",
        "        out1 = self.conv1(out1)\n",
        "\n",
        "        out2 = self.bn2(out1)\n",
        "        out2 = F.relu(out2, True)\n",
        "        out2 = self.conv2(out2)\n",
        "\n",
        "        out3 = self.bn3(out2)\n",
        "        out3 = F.relu(out3, True)\n",
        "        out3 = self.conv3(out3)\n",
        "\n",
        "        out3 = torch.cat((out1, out2, out3), 1)\n",
        "\n",
        "        if self.downsample is not None:\n",
        "            residual = self.downsample(residual)\n",
        "\n",
        "        out3 += residual\n",
        "\n",
        "        return out3"
      ],
      "execution_count": 0,
      "outputs": []
    },
    {
      "cell_type": "code",
      "metadata": {
        "id": "VFDpxCrCt5qW",
        "colab_type": "code",
        "colab": {}
      },
      "source": [
        "class Bottleneck(nn.Module):\n",
        "\n",
        "    expansion = 4\n",
        "\n",
        "    def __init__(self, inplanes, planes, stride=1, downsample=None):\n",
        "        super(Bottleneck, self).__init__()\n",
        "        self.conv1 = nn.Conv2d(inplanes, planes, kernel_size=1, bias=False)\n",
        "        self.bn1 = nn.BatchNorm2d(planes)\n",
        "        self.conv2 = nn.Conv2d(planes, planes, kernel_size=3, stride=stride,\n",
        "                               padding=1, bias=False)\n",
        "        self.bn2 = nn.BatchNorm2d(planes)\n",
        "        self.conv3 = nn.Conv2d(planes, planes * 4, kernel_size=1, bias=False)\n",
        "        self.bn3 = nn.BatchNorm2d(planes * 4)\n",
        "        self.relu = nn.ReLU(inplace=True)\n",
        "        self.downsample = downsample\n",
        "        self.stride = stride\n",
        "\n",
        "    def forward(self, x):\n",
        "        residual = x\n",
        "\n",
        "        out = self.conv1(x)\n",
        "        out = self.bn1(out)\n",
        "        out = self.relu(out)\n",
        "\n",
        "        out = self.conv2(out)\n",
        "        out = self.bn2(out)\n",
        "        out = self.relu(out)\n",
        "\n",
        "        out = self.conv3(out)\n",
        "        out = self.bn3(out)\n",
        "\n",
        "        if self.downsample is not None:\n",
        "            residual = self.downsample(x)\n",
        "\n",
        "        out += residual\n",
        "        out = self.relu(out)\n",
        "\n",
        "        return out"
      ],
      "execution_count": 0,
      "outputs": []
    },
    {
      "cell_type": "markdown",
      "metadata": {
        "id": "X7aD7Zg_uqFK",
        "colab_type": "text"
      },
      "source": [
        "## HourGlass"
      ]
    },
    {
      "cell_type": "code",
      "metadata": {
        "id": "ZGhsC-3TuDwi",
        "colab_type": "code",
        "colab": {}
      },
      "source": [
        "class HourGlass(nn.Module):\n",
        "    def __init__(self, num_modules, depth, num_features):\n",
        "        super(HourGlass, self).__init__()\n",
        "        self.num_modules = num_modules\n",
        "        self.depth = depth\n",
        "        self.features = num_features\n",
        "\n",
        "        self._generate_network(self.depth)\n",
        "\n",
        "    def _generate_network(self, level):\n",
        "        self.add_module('b1_' + str(level), ConvBlock(self.features, self.features))\n",
        "\n",
        "        self.add_module('b2_' + str(level), ConvBlock(self.features, self.features))\n",
        "\n",
        "        if level > 1:\n",
        "            self._generate_network(level - 1)\n",
        "        else:\n",
        "            self.add_module('b2_plus_' + str(level), ConvBlock(self.features, self.features))\n",
        "\n",
        "        self.add_module('b3_' + str(level), ConvBlock(self.features, self.features))\n",
        "\n",
        "    def _forward(self, level, inp):\n",
        "        # Upper branch\n",
        "        up1 = inp\n",
        "        up1 = self._modules['b1_' + str(level)](up1)\n",
        "\n",
        "        # Lower branch\n",
        "        low1 = F.avg_pool2d(inp, 2, stride=2)\n",
        "        low1 = self._modules['b2_' + str(level)](low1)\n",
        "\n",
        "        if level > 1:\n",
        "            low2 = self._forward(level - 1, low1)\n",
        "        else:\n",
        "            low2 = low1\n",
        "            low2 = self._modules['b2_plus_' + str(level)](low2)\n",
        "\n",
        "        low3 = low2\n",
        "        low3 = self._modules['b3_' + str(level)](low3)\n",
        "\n",
        "        up2 = F.interpolate(low3, scale_factor=2, mode='nearest')\n",
        "\n",
        "        return up1 + up2\n",
        "\n",
        "    def forward(self, x):\n",
        "        return self._forward(self.depth, x)"
      ],
      "execution_count": 0,
      "outputs": []
    },
    {
      "cell_type": "markdown",
      "metadata": {
        "id": "CLi2I25zulZ9",
        "colab_type": "text"
      },
      "source": [
        "## FAN"
      ]
    },
    {
      "cell_type": "code",
      "metadata": {
        "id": "8nMcI8lkuXe7",
        "colab_type": "code",
        "colab": {}
      },
      "source": [
        "class FAN(nn.Module):\n",
        "\n",
        "    def __init__(self, num_modules=1):\n",
        "        super(FAN, self).__init__()\n",
        "        self.num_modules = num_modules\n",
        "\n",
        "        # Base part\n",
        "        self.conv1 = nn.Conv2d(3, 64, kernel_size=7, stride=2, padding=3)\n",
        "        self.bn1 = nn.BatchNorm2d(64)\n",
        "        self.conv2 = ConvBlock(64, 128)\n",
        "        self.conv3 = ConvBlock(128, 128)\n",
        "        self.conv4 = ConvBlock(128, 256)\n",
        "\n",
        "        # Stacking part\n",
        "        for hg_module in range(self.num_modules):\n",
        "            self.add_module('m' + str(hg_module), HourGlass(1, 4, 256))\n",
        "            self.add_module('top_m_' + str(hg_module), ConvBlock(256, 256))\n",
        "            self.add_module('conv_last' + str(hg_module),\n",
        "                            nn.Conv2d(256, 256, kernel_size=1, stride=1, padding=0))\n",
        "            self.add_module('bn_end' + str(hg_module), nn.BatchNorm2d(256))\n",
        "            self.add_module('l' + str(hg_module), nn.Conv2d(256,\n",
        "                                                            68, kernel_size=1, stride=1, padding=0))\n",
        "\n",
        "            if hg_module < self.num_modules - 1:\n",
        "                self.add_module(\n",
        "                    'bl' + str(hg_module), nn.Conv2d(256, 256, kernel_size=1, stride=1, padding=0))\n",
        "                self.add_module('al' + str(hg_module), nn.Conv2d(68,\n",
        "                                                                 256, kernel_size=1, stride=1, padding=0))\n",
        "\n",
        "    def forward(self, x):\n",
        "        x = F.relu(self.bn1(self.conv1(x)), True)\n",
        "        x = F.avg_pool2d(self.conv2(x), 2, stride=2)\n",
        "        x = self.conv3(x)\n",
        "        x = self.conv4(x)\n",
        "\n",
        "        previous = x\n",
        "\n",
        "        output = None\n",
        "        for i in range(self.num_modules):\n",
        "            hg = self._modules['m' + str(i)](previous)\n",
        "\n",
        "            ll = hg\n",
        "            ll = self._modules['top_m_' + str(i)](ll)\n",
        "\n",
        "            ll = F.relu(self._modules['bn_end' + str(i)]\n",
        "                        (self._modules['conv_last' + str(i)](ll)), True)\n",
        "\n",
        "            # Predict heatmaps\n",
        "            tmp_out = self._modules['l' + str(i)](ll)\n",
        "            output = tmp_out \n",
        "\n",
        "            if i < self.num_modules - 1:\n",
        "                ll = self._modules['bl' + str(i)](ll)\n",
        "                tmp_out_ = self._modules['al' + str(i)](tmp_out)\n",
        "                previous = previous + ll + tmp_out_\n",
        "                \n",
        "        return output"
      ],
      "execution_count": 0,
      "outputs": []
    },
    {
      "cell_type": "markdown",
      "metadata": {
        "id": "Q_WMRq7hAiLK",
        "colab_type": "text"
      },
      "source": [
        "## Heat Map to 2D points"
      ]
    },
    {
      "cell_type": "code",
      "metadata": {
        "id": "6Km-4HTHzRLP",
        "colab_type": "code",
        "colab": {}
      },
      "source": [
        "class HMTo2D(nn.Module):\n",
        "    def __init__(self):\n",
        "        super(HMTo2D, self).__init__()\n",
        "        self.conv = nn.Conv2d(68, 68*2, 64)\n",
        "    def forward(self, hm):\n",
        "        pts = self.conv(hm)\n",
        "        pts = pts.view(pts.shape[0], -1)\n",
        "        return pts"
      ],
      "execution_count": 0,
      "outputs": []
    },
    {
      "cell_type": "markdown",
      "metadata": {
        "id": "DFG8Dxr3AuPE",
        "colab_type": "text"
      },
      "source": [
        "## 2D LandMarks"
      ]
    },
    {
      "cell_type": "code",
      "metadata": {
        "id": "lBL19VTR0gYQ",
        "colab_type": "code",
        "colab": {}
      },
      "source": [
        "class LandMark2D(nn.Module):\n",
        "    def __init__(self, num_modules=1):\n",
        "        super(LandMark2D, self).__init__()\n",
        "        \n",
        "        self.fan = FAN(num_modules)\n",
        "        self.hm_2_2d = HMTo2D()\n",
        "    def forward(self, images):\n",
        "        hm = self.fan(images)\n",
        "        pts = self.hm_2_2d(hm)\n",
        "        return pts, hm"
      ],
      "execution_count": 0,
      "outputs": []
    },
    {
      "cell_type": "code",
      "metadata": {
        "id": "X3XxFVVNaQyz",
        "colab_type": "code",
        "colab": {
          "base_uri": "https://localhost:8080/",
          "height": 36
        },
        "outputId": "4f33a6a5-5e67-4ae1-f4f0-358824e9a05b"
      },
      "source": [
        "lm2d = LandMark2D()\n",
        "lm2d = lm2d.cuda()\n",
        "inp = torch.rand(1,3,256,256).cuda()\n",
        "start = time()\n",
        "i = 0\n",
        "while time() - start < 1:\n",
        "    i+=1\n",
        "    lm2d(inp)\n",
        "print(f\"FPS: {i}\")"
      ],
      "execution_count": 39,
      "outputs": [
        {
          "output_type": "stream",
          "text": [
            "FPS: 28\n"
          ],
          "name": "stdout"
        }
      ]
    },
    {
      "cell_type": "markdown",
      "metadata": {
        "id": "mOQgGfpHufUJ",
        "colab_type": "text"
      },
      "source": [
        "## Depth"
      ]
    },
    {
      "cell_type": "code",
      "metadata": {
        "id": "Sq-a_u0U7wYA",
        "colab_type": "code",
        "colab": {}
      },
      "source": [
        "class ResNetDepth(nn.Module):\n",
        "\n",
        "    def __init__(self, block=Bottleneck, layers=[3, 8, 36, 3], num_classes=68):\n",
        "        self.inplanes = 64\n",
        "        super(ResNetDepth, self).__init__()\n",
        "        self.conv1 = nn.Conv2d(3 + 68, 64, kernel_size=7, stride=2, padding=3,\n",
        "                               bias=False)\n",
        "        self.bn1 = nn.BatchNorm2d(64)\n",
        "        self.relu = nn.ReLU(inplace=True)\n",
        "        self.maxpool = nn.MaxPool2d(kernel_size=3, stride=2, padding=1)\n",
        "        self.layer1 = self._make_layer(block, 64, layers[0])\n",
        "        self.layer2 = self._make_layer(block, 128, layers[1], stride=2)\n",
        "        self.layer3 = self._make_layer(block, 256, layers[2], stride=2)\n",
        "        self.layer4 = self._make_layer(block, 512, layers[3], stride=2)\n",
        "        self.avgpool = nn.AvgPool2d(7)\n",
        "        self.fc = nn.Linear(512 * block.expansion, num_classes)\n",
        "\n",
        "        for m in self.modules():\n",
        "            if isinstance(m, nn.Conv2d):\n",
        "                n = m.kernel_size[0] * m.kernel_size[1] * m.out_channels\n",
        "                m.weight.data.normal_(0, math.sqrt(2. / n))\n",
        "            elif isinstance(m, nn.BatchNorm2d):\n",
        "                m.weight.data.fill_(1)\n",
        "                m.bias.data.zero_()\n",
        "\n",
        "    def _make_layer(self, block, planes, blocks, stride=1):\n",
        "        downsample = None\n",
        "        if stride != 1 or self.inplanes != planes * block.expansion:\n",
        "            downsample = nn.Sequential(\n",
        "                nn.Conv2d(self.inplanes, planes * block.expansion,\n",
        "                          kernel_size=1, stride=stride, bias=False),\n",
        "                nn.BatchNorm2d(planes * block.expansion),\n",
        "            )\n",
        "\n",
        "        layers = []\n",
        "        layers.append(block(self.inplanes, planes, stride, downsample))\n",
        "        self.inplanes = planes * block.expansion\n",
        "        for i in range(1, blocks):\n",
        "            layers.append(block(self.inplanes, planes))\n",
        "\n",
        "        return nn.Sequential(*layers)\n",
        "\n",
        "    def forward(self, x):\n",
        "        x = self.conv1(x)\n",
        "        x = self.bn1(x)\n",
        "        x = self.relu(x)\n",
        "        x = self.maxpool(x)\n",
        "\n",
        "        x = self.layer1(x)\n",
        "        x = self.layer2(x)\n",
        "        x = self.layer3(x)\n",
        "        x = self.layer4(x)\n",
        "\n",
        "        x = self.avgpool(x)\n",
        "        x = x.view(x.size(0), -1)\n",
        "        x = self.fc(x)\n",
        "\n",
        "        return x"
      ],
      "execution_count": 0,
      "outputs": []
    },
    {
      "cell_type": "markdown",
      "metadata": {
        "id": "YCzbW1LMA2Iq",
        "colab_type": "text"
      },
      "source": [
        "## 3D LandMark"
      ]
    },
    {
      "cell_type": "code",
      "metadata": {
        "id": "TbQhab8X6Fe8",
        "colab_type": "code",
        "colab": {}
      },
      "source": [
        "class LandMark3D(nn.Module):\n",
        "    def __init__(self, num_modules=1):\n",
        "        super(LandMark3D, self).__init__()\n",
        "        self.LM2D = LandMark2D(num_modules)\n",
        "\n",
        "        self.conv = nn.ConvTranspose2d(68, 68, 4, 4)\n",
        "        self.depth = ResNetDepth()\n",
        "\n",
        "    def forward(self, images):\n",
        "        pts_2d, heatmaps = self.LM2D(images)\n",
        "        heatmaps = self.conv(heatmaps)\n",
        "        pts_depth = self.depth(torch.cat((images, heatmaps), 1))\n",
        "        pts_3d = torch.cat([pts_2d, pts_depth],1)\n",
        "        return pts_3d\n"
      ],
      "execution_count": 0,
      "outputs": []
    },
    {
      "cell_type": "code",
      "metadata": {
        "id": "RhBFca5y6mQi",
        "colab_type": "code",
        "colab": {
          "base_uri": "https://localhost:8080/",
          "height": 36
        },
        "outputId": "0f697373-3f9f-4594-9fbc-8a13b28cdad4"
      },
      "source": [
        "lm3d = LandMark3D()\n",
        "lm3d.cuda()\n",
        "inp = torch.rand(1,3,256,256).cuda()\n",
        "start = time()\n",
        "i = 0\n",
        "while time() - start < 1:\n",
        "    i+=1\n",
        "    lm3d(inp)\n",
        "print(f\"FPS: {i}\")\n"
      ],
      "execution_count": 40,
      "outputs": [
        {
          "output_type": "stream",
          "text": [
            "FPS: 16\n"
          ],
          "name": "stdout"
        }
      ]
    },
    {
      "cell_type": "markdown",
      "metadata": {
        "id": "Hsa1X3YQOjfx",
        "colab_type": "text"
      },
      "source": [
        "# Workers"
      ]
    },
    {
      "cell_type": "markdown",
      "metadata": {
        "id": "4kVLmdfKJfoc",
        "colab_type": "text"
      },
      "source": [
        "## Early Stopper"
      ]
    },
    {
      "cell_type": "code",
      "metadata": {
        "id": "boAfEME2OuBm",
        "colab_type": "code",
        "colab": {}
      },
      "source": [
        "class EarlyStopping:\n",
        "    def __init__(self,patience=15, path='/content'):\n",
        "        self.patience = patience\n",
        "        self.path = path\n",
        "        self.counter = 0\n",
        "        self.best_score = None\n",
        "        self.early_stop = False\n",
        "        self.val_loss_min = np.Inf\n",
        "    \n",
        "    def __call__(self, val_loss, model, epoch):\n",
        "        score = -val_loss\n",
        "        if self.best_score is None:\n",
        "            self.best_score = score\n",
        "        if score < self.best_score:\n",
        "            self.counter += 1\n",
        "            print(f'\\rEpoch {epoch} EarlyStopping counter: {self.counter} out of {self.patience}')\n",
        "            if self.counter >= self.patience:\n",
        "                self.early_stop = True\n",
        "        else:\n",
        "            print(\"\\rEpoch {} loss reduced from {} to {}\".format(epoch, -self.best_score, val_loss))\n",
        "            self.best_score = score\n",
        "            self.save_checkpoint(val_loss, model)\n",
        "            self.counter = 0\n",
        "    \n",
        "    def save_checkpoint(self, val_loss, model):\n",
        "        torch.save(model.state_dict(), self.path)\n",
        "        self.val_loss_min = val_loss"
      ],
      "execution_count": 0,
      "outputs": []
    },
    {
      "cell_type": "markdown",
      "metadata": {
        "id": "AoFp53Jm3TH-",
        "colab_type": "text"
      },
      "source": [
        "## Controller"
      ]
    },
    {
      "cell_type": "code",
      "metadata": {
        "id": "nWvbursE93km",
        "colab_type": "code",
        "colab": {}
      },
      "source": [
        "# !mkdir \"/content/drive/My Drive/Controller3d\""
      ],
      "execution_count": 0,
      "outputs": []
    },
    {
      "cell_type": "code",
      "metadata": {
        "id": "qLMn1Ego3SMe",
        "colab_type": "code",
        "colab": {}
      },
      "source": [
        "class Controller:\n",
        "\n",
        "    def __init__(self, path):\n",
        "        \n",
        "        self.path = path\n",
        "        self._initialize()\n",
        "        self._load()\n",
        "\n",
        "    def _initialize(self):\n",
        "        \n",
        "        self.epoch_n = 0\n",
        "        self.early_stopping_counter = 0\n",
        "        self.batch_n = 0\n",
        "        self.current_train_loss = 0\n",
        "        self.model_state_dict = None\n",
        "        self.optim_state_dict = None\n",
        "        self.best_score = None\n",
        "\n",
        "        self.train_loss = []\n",
        "        self.valid_loss = []\n",
        "\n",
        "\n",
        "    def _load(self):\n",
        "        self._load_epoch_info()\n",
        "        self._load_batch_info()\n",
        "\n",
        "    def _load_batch_info(self):\n",
        "        \n",
        "        path = os.path.join(self.path, \"batch_info.pth\")\n",
        "        \n",
        "        if not os.path.isfile(path):\n",
        "            return \n",
        "        \n",
        "        info = torch.load(path)\n",
        "\n",
        "        self.batch_n = info[\"batch_n\"]\n",
        "        self.model_state_dict = info[\"model_state_dict\"]\n",
        "        self.optim_state_dict = info[\"optim_state_dict\"]\n",
        "        self.current_train_loss = info['current_train_loss']\n",
        "\n",
        "    def _load_epoch_info(self):\n",
        "        \n",
        "        path = os.path.join(self.path, \"epoch_info.pth\")\n",
        "        \n",
        "        if not os.path.isfile(path):\n",
        "            return \n",
        "        \n",
        "        info = torch.load(path)\n",
        "\n",
        "        self.epoch_n = info[\"epoch_n\"]\n",
        "        self.early_stopping_counter = info[\"early_stopping_counter\"]\n",
        "        self.best_score = info[\"best_score\"]\n",
        "        self.train_loss = info[\"train_loss\"]\n",
        "        self.valid_loss = info[\"valid_loss\"]\n",
        "\n",
        "    def update_batch_info(self, batch_n, model, optim, current_train_loss):\n",
        "        self.batch_n = batch_n\n",
        "        self.model_state_dict = model.state_dict()\n",
        "        self.optim_state_dict = optim.state_dict()\n",
        "        self.current_train_loss = current_train_loss\n",
        "        self._save_batch_info()\n",
        "\n",
        "    def _save_batch_info(self):\n",
        "        torch.save({\n",
        "            'batch_n': self.batch_n,\n",
        "            'model_state_dict': self.model_state_dict,\n",
        "            'optim_state_dict': self.optim_state_dict,\n",
        "            'current_train_loss': self.current_train_loss,\n",
        "            }, os.path.join(self.path,\"batch_info.pth\"))\n",
        "    \n",
        "    \n",
        "    def update_epoch_info(self, epoch, best_score, train_loss, valid_loss, early_stopping_counter):\n",
        "        \n",
        "        self.epoch_n = epoch\n",
        "        self.early_stopping_counter =early_stopping_counter\n",
        "        self.best_score = best_score\n",
        "        self.train_loss.append(train_loss)\n",
        "        self.valid_loss.append(valid_loss)\n",
        "        self._save_epoch_info()\n",
        "        self.current_train_loss = 0\n",
        "        self.batch_n = 0\n",
        "        self._save_batch_info()\n",
        "\n",
        "    def _save_epoch_info(self):\n",
        "        torch.save({\n",
        "            'epoch_n': self.epoch_n,\n",
        "            'early_stopping_counter':self.early_stopping_counter,\n",
        "            'best_score': self.best_score,\n",
        "            'train_loss': self.train_loss,\n",
        "            'valid_loss': self.valid_loss,\n",
        "            }, os.path.join(self.path,\"epoch_info.pth\"))\n",
        "    "
      ],
      "execution_count": 0,
      "outputs": []
    },
    {
      "cell_type": "markdown",
      "metadata": {
        "id": "pLmQ_B-7Jyn-",
        "colab_type": "text"
      },
      "source": [
        "## Trainer"
      ]
    },
    {
      "cell_type": "code",
      "metadata": {
        "id": "bvEqUKUnJ5vv",
        "colab_type": "code",
        "colab": {}
      },
      "source": [
        "def train(train_loader, model, optimizer, criterion, controller):\n",
        "    model.train()\n",
        "    t = time()\n",
        "    train_loss = controller.current_train_loss\n",
        "    for i, data in enumerate(train_loader):\n",
        "        images = data['image']\n",
        "        if images.shape[1] == 0:\n",
        "            print(f\"\\rTaining finished batches {i+1}/{len(train_loader)}   {int(((i+1)/len(train_loader))*100)}%\", end='')\n",
        "            continue\n",
        "        targets = data['keypoints']\n",
        "        targets = targets.view(targets.size(0), -1)\n",
        "        \n",
        "        images = images.type(torch.FloatTensor)\n",
        "        targets = targets.type(torch.FloatTensor)\n",
        "        \n",
        "        images = images.to(device)\n",
        "        targets = targets.to(device)\n",
        "        \n",
        "        optimizer.zero_grad()\n",
        "        \n",
        "        output = model(images)#[0] for 2d model\n",
        "        loss = criterion(output, targets)\n",
        "        loss.backward()\n",
        "        optimizer.step()\n",
        "        \n",
        "        train_loss += 1/(i + 1) * (loss.data - train_loss)\n",
        "        \n",
        "        # print(targets.shape, output.shape)\n",
        "\n",
        "        del images\n",
        "        del targets\n",
        "        torch.cuda.empty_cache()\n",
        "        \n",
        "        delay = time() - t\n",
        "        hms = str(datetime.timedelta(seconds=int(delay* (len(train_loader)-(i+1)))))\n",
        "\n",
        "        print(f\"\\rTaining finished batches {i+1}/{len(train_loader)}   {int(((i+1)/len(train_loader))*100)}%   delay {int(delay)}s   time left {hms}   loss {loss.item()}\",end='')\n",
        "        if i%10 == 0:\n",
        "            controller.update_batch_info(i, model, optimizer, train_loss)\n",
        "        t = time()\n",
        "        \n",
        "    return train_loss"
      ],
      "execution_count": 0,
      "outputs": []
    },
    {
      "cell_type": "markdown",
      "metadata": {
        "id": "cL61OCUxJqxj",
        "colab_type": "text"
      },
      "source": [
        "## Validater"
      ]
    },
    {
      "cell_type": "code",
      "metadata": {
        "id": "rZ-hgW0WJprQ",
        "colab_type": "code",
        "colab": {}
      },
      "source": [
        "def validation(valid_loader, model, criterion):\n",
        "    model.eval()\n",
        "    loss, running_loss = 0.0, 0.0\n",
        "    t = time()\n",
        "    with torch.no_grad():\n",
        "        for i, data in enumerate(valid_loader):\n",
        "            images = data['image']\n",
        "            targets = data['keypoints']\n",
        "            \n",
        "            targets = targets.view(targets.size(0), -1)\n",
        "            \n",
        "            images = images.type(torch.FloatTensor)\n",
        "            targets = targets.type(torch.FloatTensor)\n",
        "\n",
        "            images = images.to(device)\n",
        "            targets = targets.to(device)\n",
        "            \n",
        "            output = model(images)#[0] for 2d model\n",
        "            loss = criterion(output, targets)\n",
        "            running_loss += loss.item()\n",
        "            del images\n",
        "            del targets\n",
        "            torch.cuda.empty_cache()\n",
        "\n",
        "            delay = time() - t\n",
        "            hms = str(datetime.timedelta(seconds=int(delay * (len(valid_loader)-(i+1)))))\n",
        "            print(f\"\\rValidation finished batches {i+1}/{len(valid_loader)}   {int(((i+1)/len(valid_loader))*100)}%   delay {int(delay)}s   time left {hms}   loss { loss.item()} \",end='')\n",
        "            t = time()\n",
        "    avg_loss = running_loss / (i+1)\n",
        "    model.train()\n",
        "    return avg_loss"
      ],
      "execution_count": 0,
      "outputs": []
    },
    {
      "cell_type": "markdown",
      "metadata": {
        "id": "fehFcth4Kepl",
        "colab_type": "text"
      },
      "source": [
        "## Worker"
      ]
    },
    {
      "cell_type": "code",
      "metadata": {
        "id": "mviJP2wGKhD6",
        "colab_type": "code",
        "colab": {}
      },
      "source": [
        "def worker(n_epochs, train_loader, valid_loader, model, optimizer, criterion, early_stop, controller):\n",
        "    \n",
        "    all_train_loss, all_val_loss = controller.train_loss, controller.valid_loss\n",
        "    early_stop.counter = controller.early_stopping_counter\n",
        "    if controller.model_state_dict:\n",
        "        model.load_state_dict(controller.model_state_dict)\n",
        "        \n",
        "    if controller.optim_state_dict:\n",
        "        optimizer.load_state_dict(controller.optim_state_dict)\n",
        "    \n",
        "    for epoch in range(controller.epoch_n,n_epochs):\n",
        "        #visualize_output(test_images, epoch, test_outputs, gt_pts)\n",
        "        # if controller.batch_n != len(train_loader): \n",
        "        train_loss = train(train_loader, model, optimizer, criterion, controller)\n",
        "        controller.update_batch_info(len(train_loader), model, optimizer, train_loss)\n",
        "        val_loss = validation(valid_loader, model, criterion)\n",
        "        early_stop.best_score = controller.best_score\n",
        "        early_stop(val_loss, model, epoch)\n",
        "        all_train_loss.append(train_loss)\n",
        "        all_val_loss.append(val_loss)\n",
        "        controller.update_epoch_info(epoch+1, early_stop.best_score, train_loss, val_loss, early_stop.counter)     \n",
        "\n",
        "        if early_stop.early_stop:\n",
        "            break    \n",
        "            \n",
        "    return all_train_loss, all_val_loss  "
      ],
      "execution_count": 0,
      "outputs": []
    },
    {
      "cell_type": "markdown",
      "metadata": {
        "id": "ezcLdBhFEOqB",
        "colab_type": "text"
      },
      "source": [
        "# Start Working"
      ]
    },
    {
      "cell_type": "markdown",
      "metadata": {
        "id": "yG88FEHnCSoA",
        "colab_type": "text"
      },
      "source": [
        "## Basic Configurations"
      ]
    },
    {
      "cell_type": "code",
      "metadata": {
        "id": "JwrKIYfjCdDL",
        "colab_type": "code",
        "colab": {}
      },
      "source": [
        "n_epochs = 1000\n",
        "device = torch.device('cuda')\n",
        "batch_size = 32\n",
        "image_size = 256\n",
        "base_dir = \"/content/drive/My Drive/data/\"\n",
        "valid_size = 0.1\n",
        "test_size = 0.1\n",
        "colored_image = True"
      ],
      "execution_count": 0,
      "outputs": []
    },
    {
      "cell_type": "markdown",
      "metadata": {
        "id": "1NabtPT0c8pz",
        "colab_type": "text"
      },
      "source": [
        "## 2D Model"
      ]
    },
    {
      "cell_type": "markdown",
      "metadata": {
        "id": "dcy13JEydXj5",
        "colab_type": "text"
      },
      "source": [
        "### Sub Config"
      ]
    },
    {
      "cell_type": "code",
      "metadata": {
        "id": "ZSVvS-Kcvf8S",
        "colab_type": "code",
        "colab": {}
      },
      "source": [
        "# # !mkdir \"/content/drive/My Drive/Models\"\n",
        "criterion = nn.MSELoss()\n",
        "model = LandMark2D(1)\n",
        "model.to(device)\n",
        "controller = Controller(\"/content/drive/My Drive/Controller2d\")\n",
        "early_stop = EarlyStopping(5, \"/content/drive/My Drive/Models/lm2d.pt\")"
      ],
      "execution_count": 0,
      "outputs": []
    },
    {
      "cell_type": "code",
      "metadata": {
        "id": "Nam8SmGGc8C_",
        "colab_type": "code",
        "colab": {
          "base_uri": "https://localhost:8080/",
          "height": 93
        },
        "outputId": "0565e2ec-315e-4ae0-d5da-991383dd90dd"
      },
      "source": [
        "mode = Mode.lm2d\n",
        "train_loader, test_loader, valid_loader = create_datasets(base_dir, batch_size, controller.batch_n, image_size, mode, valid_size, test_size, colored_image)"
      ],
      "execution_count": 48,
      "outputs": [
        {
          "output_type": "stream",
          "text": [
            "\n",
            "Train set: 124448 image\n",
            "Valid set: 15556 image\n",
            "Test set: 15556 image\n"
          ],
          "name": "stdout"
        }
      ]
    },
    {
      "cell_type": "code",
      "metadata": {
        "id": "_-_qS1K-LL1A",
        "colab_type": "code",
        "colab": {}
      },
      "source": [
        "images, _, key_pts = sample_output(test_loader)"
      ],
      "execution_count": 0,
      "outputs": []
    },
    {
      "cell_type": "markdown",
      "metadata": {
        "id": "Dmadtbx7CtaP",
        "colab_type": "text"
      },
      "source": [
        "### Data Visualizing"
      ]
    },
    {
      "cell_type": "code",
      "metadata": {
        "id": "Hh7nhKTDR6cd",
        "colab_type": "code",
        "colab": {}
      },
      "source": [
        "model.load_state_dict(torch.load(\"/content/drive/My Drive/Models/lm2d.pt\"));"
      ],
      "execution_count": 0,
      "outputs": []
    },
    {
      "cell_type": "code",
      "metadata": {
        "id": "N7zOe8hHebgS",
        "colab_type": "code",
        "colab": {}
      },
      "source": [
        "# # model results\n",
        "test_images, test_outputs, gt_pts = sample_output(test_loader, model)"
      ],
      "execution_count": 0,
      "outputs": []
    },
    {
      "cell_type": "code",
      "metadata": {
        "id": "4Y0YDqa3LVJq",
        "colab_type": "code",
        "colab": {}
      },
      "source": [
        "visualize_output(test_images, controller.epoch_n, test_outputs, gt_pts)"
      ],
      "execution_count": 0,
      "outputs": []
    },
    {
      "cell_type": "markdown",
      "metadata": {
        "id": "B0MjvNKcj1pX",
        "colab_type": "text"
      },
      "source": [
        "### Train"
      ]
    },
    {
      "cell_type": "code",
      "metadata": {
        "id": "jWzYcmJL_GGJ",
        "colab_type": "code",
        "colab": {}
      },
      "source": [
        "model.to(device);\n",
        "optimizer = optim.Adam(model.parameters(), lr=0.001)"
      ],
      "execution_count": 0,
      "outputs": []
    },
    {
      "cell_type": "code",
      "metadata": {
        "id": "-RkQJyn7j1MN",
        "colab_type": "code",
        "colab": {}
      },
      "source": [
        "all_train_loss, all_val_loss = worker(n_epochs, train_loader, valid_loader, model, optimizer, criterion, early_stop, controller)"
      ],
      "execution_count": 0,
      "outputs": []
    },
    {
      "cell_type": "markdown",
      "metadata": {
        "id": "vsHaE-oWj71R",
        "colab_type": "text"
      },
      "source": [
        "### Training Graph"
      ]
    },
    {
      "cell_type": "code",
      "metadata": {
        "id": "noN8vOkbj_c-",
        "colab_type": "code",
        "colab": {}
      },
      "source": [
        "display_graph(all_train_loss, all_val_loss)"
      ],
      "execution_count": 0,
      "outputs": []
    },
    {
      "cell_type": "markdown",
      "metadata": {
        "id": "XiMb5hHxkCic",
        "colab_type": "text"
      },
      "source": [
        "### Resutls"
      ]
    },
    {
      "cell_type": "code",
      "metadata": {
        "id": "VFGESUmDC2X_",
        "colab_type": "code",
        "colab": {}
      },
      "source": [
        "test_images, test_outputs, gt_pts = sample_output(test_loader, model)\n",
        "visualize_output(test_images, test_outputs, gt_pts)"
      ],
      "execution_count": 0,
      "outputs": []
    },
    {
      "cell_type": "markdown",
      "metadata": {
        "id": "iDlQsPw5D2pq",
        "colab_type": "text"
      },
      "source": [
        "# 3D Model"
      ]
    },
    {
      "cell_type": "markdown",
      "metadata": {
        "id": "xwh6t9RLkS8t",
        "colab_type": "text"
      },
      "source": [
        "### Sub Config"
      ]
    },
    {
      "cell_type": "code",
      "metadata": {
        "id": "ceA82ai3kVGU",
        "colab_type": "code",
        "colab": {}
      },
      "source": [
        "criterion = nn.MSELoss()\n",
        "model = LandMark3D(1)\n",
        "controller = Controller(\"/content/drive/My Drive/Controller3d\")\n",
        "early_stop = EarlyStopping(3, \"/content/drive/My Drive/Models/lm3d.pt\")"
      ],
      "execution_count": 0,
      "outputs": []
    },
    {
      "cell_type": "code",
      "metadata": {
        "id": "UEItttIAaaJa",
        "colab_type": "code",
        "colab": {}
      },
      "source": [
        "model.load_state_dict(torch.load(\"/content/drive/My Drive/Models/lm3d.pt\"));"
      ],
      "execution_count": 0,
      "outputs": []
    },
    {
      "cell_type": "code",
      "metadata": {
        "id": "RyGIoOCEZ_TP",
        "colab_type": "code",
        "outputId": "b03254dc-d471-486c-ae97-b5ac7635f8a3",
        "colab": {
          "base_uri": "https://localhost:8080/",
          "height": 93
        }
      },
      "source": [
        "mode = Mode.lm3d\n",
        "train_loader, test_loader, valid_loader = create_datasets(base_dir, batch_size, controller.batch_n, image_size, mode, valid_size, test_size, colored_image)"
      ],
      "execution_count": 55,
      "outputs": [
        {
          "output_type": "stream",
          "text": [
            "\n",
            "Train set: 124448 image\n",
            "Valid set: 15556 image\n",
            "Test set: 15556 image\n"
          ],
          "name": "stdout"
        }
      ]
    },
    {
      "cell_type": "code",
      "metadata": {
        "id": "oLpobDX5fKGj",
        "colab_type": "code",
        "colab": {}
      },
      "source": [
        "images, model_pts, key_pts = sample_output(test_loader, model)"
      ],
      "execution_count": 0,
      "outputs": []
    },
    {
      "cell_type": "markdown",
      "metadata": {
        "id": "l-g3FeBMZ1qJ",
        "colab_type": "text"
      },
      "source": [
        "## Data Visualizing"
      ]
    },
    {
      "cell_type": "code",
      "metadata": {
        "id": "-bltXoM3aYqD",
        "colab_type": "code",
        "colab": {
          "base_uri": "https://localhost:8080/",
          "height": 1000
        },
        "outputId": "3e789f00-1c6c-4b65-83fe-0ce8ba886291"
      },
      "source": [
        "# model training \n",
        "for i in range(10):\n",
        "    plot_3d(controller.epoch_n, key_pts[i], model_pts[i])"
      ],
      "execution_count": 57,
      "outputs": [
        {
          "output_type": "display_data",
          "data": {
            "image/png": "[encoded data removed]",
            "text/plain": [
              "<Figure size 432x288 with 1 Axes>"
            ]
          },
          "metadata": {
            "tags": [],
            "needs_background": "light"
          }
        },
        {
          "output_type": "display_data",
          "data": {
            "image/png": "[encoded data removed]",
            "text/plain": [
              "<Figure size 432x288 with 1 Axes>"
            ]
          },
          "metadata": {
            "tags": [],
            "needs_background": "light"
          }
        },
        {
          "output_type": "display_data",
          "data": {
            "image/png": "[encoded data removed]",
            "text/plain": [
              "<Figure size 432x288 with 1 Axes>"
            ]
          },
          "metadata": {
            "tags": [],
            "needs_background": "light"
          }
        },
        {
          "output_type": "display_data",
          "data": {
            "image/png": "[encoded data removed]",
            "text/plain": [
              "<Figure size 432x288 with 1 Axes>"
            ]
          },
          "metadata": {
            "tags": [],
            "needs_background": "light"
          }
        },
        {
          "output_type": "display_data",
          "data": {
            "image/png": "[encoded data removed]",
            "text/plain": [
              "<Figure size 432x288 with 1 Axes>"
            ]
          },
          "metadata": {
            "tags": [],
            "needs_background": "light"
          }
        },
        {
          "output_type": "display_data",
          "data": {
            "image/png": "[encoded data removed]",
            "text/plain": [
              "<Figure size 432x288 with 1 Axes>"
            ]
          },
          "metadata": {
            "tags": [],
            "needs_background": "light"
          }
        },
        {
          "output_type": "display_data",
          "data": {
            "image/png": "[encoded data removed]",
            "text/plain": [
              "<Figure size 432x288 with 1 Axes>"
            ]
          },
          "metadata": {
            "tags": [],
            "needs_background": "light"
          }
        },
        {
          "output_type": "display_data",
          "data": {
            "image/png": "[encoded data removed]",
            "text/plain": [
              "<Figure size 432x288 with 1 Axes>"
            ]
          },
          "metadata": {
            "tags": [],
            "needs_background": "light"
          }
        },
        {
          "output_type": "display_data",
          "data": {
            "image/png": "[encoded data removed]",
            "text/plain": [
              "<Figure size 432x288 with 1 Axes>"
            ]
          },
          "metadata": {
            "tags": [],
            "needs_background": "light"
          }
        },
        {
          "output_type": "display_data",
          "data": {
            "image/png": "[encoded data removed]",
            "text/plain": [
              "<Figure size 432x288 with 1 Axes>"
            ]
          },
          "metadata": {
            "tags": [],
            "needs_background": "light"
          }
        }
      ]
    },
    {
      "cell_type": "markdown",
      "metadata": {
        "id": "TVxBJMWQkZcr",
        "colab_type": "text"
      },
      "source": [
        "### Train"
      ]
    },
    {
      "cell_type": "code",
      "metadata": {
        "id": "r-W3v3hUCq1v",
        "colab_type": "code",
        "colab": {}
      },
      "source": [
        "# load 2d pretrained model as init weight\n",
        "# model.LM2D.load_state_dict(torch.load(\"/content/drive/My Drive/Models/lm2d.pt\"))"
      ],
      "execution_count": 0,
      "outputs": []
    },
    {
      "cell_type": "code",
      "metadata": {
        "id": "p74dKQOdB0EI",
        "colab_type": "code",
        "colab": {}
      },
      "source": [
        "model.to(device);\n",
        "optimizer = optim.Adam(model.parameters(), lr=0.0001, eps=1e-7)"
      ],
      "execution_count": 0,
      "outputs": []
    },
    {
      "cell_type": "code",
      "metadata": {
        "id": "NoqVu8Pykcun",
        "colab_type": "code",
        "outputId": "a470ed1b-6559-44e3-c1ea-f1d65985fd57",
        "colab": {
          "base_uri": "https://localhost:8080/",
          "height": 36
        }
      },
      "source": [
        "all_train_loss, all_val_loss = worker(n_epochs, train_loader, valid_loader, model, optimizer, criterion, early_stop, controller)"
      ],
      "execution_count": 0,
      "outputs": [
        {
          "output_type": "stream",
          "text": [
            "Epoch 15 EarlyStopping counter: 3 out of 3\n"
          ],
          "name": "stdout"
        }
      ]
    },
    {
      "cell_type": "markdown",
      "metadata": {
        "id": "CNthAGbHkd6h",
        "colab_type": "text"
      },
      "source": [
        "### Training Graph"
      ]
    },
    {
      "cell_type": "code",
      "metadata": {
        "id": "Qkrev4gAklp0",
        "colab_type": "code",
        "outputId": "b5c6518a-f86f-49b4-faff-4a7114285171",
        "colab": {
          "base_uri": "https://localhost:8080/",
          "height": 265
        }
      },
      "source": [
        "display_graph(all_train_loss, all_val_loss)"
      ],
      "execution_count": 0,
      "outputs": [
        {
          "output_type": "display_data",
          "data": {
            "image/png": "[encoded data removed]",
            "text/plain": [
              "<Figure size 432x288 with 1 Axes>"
            ]
          },
          "metadata": {
            "tags": [],
            "needs_background": "light"
          }
        }
      ]
    },
    {
      "cell_type": "markdown",
      "metadata": {
        "id": "NistHEseknn2",
        "colab_type": "text"
      },
      "source": [
        "### Results"
      ]
    },
    {
      "cell_type": "code",
      "metadata": {
        "id": "5szFTJb6D2FP",
        "colab_type": "code",
        "colab": {}
      },
      "source": [
        "images, model_pts, key_pts = sample_output(test_loader, model)\n",
        "for i in range(10):\n",
        "    plot_3d(controller.epoch_n, key_pts[i], model_pts[i])"
      ],
      "execution_count": 0,
      "outputs": []
    }
  ]
}