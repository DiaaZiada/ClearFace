{
 "cells": [
  {
   "cell_type": "code",
   "execution_count": 5,
   "metadata": {},
   "outputs": [],
   "source": [
    "import cv2\n",
    "for i in range(102):\n",
    "    im1 = cv2.imread(f\"/media/Tesla/Bug/ClearFace/images2d/{i}_2d.png\")\n",
    "    im2 = cv2.imread(f\"/media/Tesla/Bug/ClearFace/images3d/{i}_3d.png\")\n",
    "    im2 = cv2.resize(im2, (800, 450))\n",
    "    im = cv2.hconcat([im1, im2])\n",
    "    \n",
    "    cv2.imwrite(f\"/media/Tesla/Bug/ClearFace/final image/{i}.jpg\", im)\n"
   ]
  },
  {
   "cell_type": "code",
   "execution_count": 6,
   "metadata": {},
   "outputs": [
    {
     "name": "stdout",
     "output_type": "stream",
     "text": [
      "37.407407407407405%"
     ]
    },
    {
     "ename": "NameError",
     "evalue": "name 'os' is not defined",
     "output_type": "error",
     "traceback": [
      "\u001b[0;31m---------------------------------------------------------------------------\u001b[0m",
      "\u001b[0;31mNameError\u001b[0m                                 Traceback (most recent call last)",
      "\u001b[0;32m<ipython-input-6-66f3d2b19a85>\u001b[0m in \u001b[0;36m<module>\u001b[0;34m\u001b[0m\n\u001b[1;32m     16\u001b[0m \u001b[0;34m\u001b[0m\u001b[0m\n\u001b[1;32m     17\u001b[0m \u001b[0;31m# this is a hack to display the gif inside the notebook\u001b[0m\u001b[0;34m\u001b[0m\u001b[0;34m\u001b[0m\u001b[0;34m\u001b[0m\u001b[0m\n\u001b[0;32m---> 18\u001b[0;31m \u001b[0mos\u001b[0m\u001b[0;34m.\u001b[0m\u001b[0msystem\u001b[0m\u001b[0;34m(\u001b[0m\u001b[0;34m'cp clearface.gif ClearFace.gif.png'\u001b[0m\u001b[0;34m)\u001b[0m\u001b[0;34m\u001b[0m\u001b[0;34m\u001b[0m\u001b[0m\n\u001b[0m",
      "\u001b[0;31mNameError\u001b[0m: name 'os' is not defined"
     ]
    }
   ],
   "source": [
    "import glob\n",
    "import imageio\n",
    "\n",
    "with imageio.get_writer('ClearFace.gif', mode='I') as writer:\n",
    "  \n",
    "  \n",
    "    for i in range(102):\n",
    "        \n",
    "        image = imageio.imread(f\"/media/Tesla/Bug/ClearFace/final image/{i}.jpg\")\n",
    "        writer.append_data(image)\n",
    "        print(f'\\r{(i/270)*100.}%',end='')\n",
    "#         if i == 10:\n",
    "#             break\n",
    "#     image = imageio.imread(filename)\n",
    "#     writer.append_data(image)\n",
    "    \n",
    "# this is a hack to display the gif inside the notebook\n",
    "os.system('cp clearface.gif ClearFace.gif.png')"
   ]
  },
  {
   "cell_type": "code",
   "execution_count": null,
   "metadata": {},
   "outputs": [],
   "source": []
  }
 ],
 "metadata": {
  "kernelspec": {
   "display_name": "Python 3",
   "language": "python",
   "name": "python3"
  },
  "language_info": {
   "codemirror_mode": {
    "name": "ipython",
    "version": 3
   },
   "file_extension": ".py",
   "mimetype": "text/x-python",
   "name": "python",
   "nbconvert_exporter": "python",
   "pygments_lexer": "ipython3",
   "version": "3.7.4"
  }
 },
 "nbformat": 4,
 "nbformat_minor": 2
}
